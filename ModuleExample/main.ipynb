{
 "cells": [
  {
   "cell_type": "code",
   "execution_count": 1,
   "id": "stable-bristol",
   "metadata": {},
   "outputs": [
    {
     "name": "stdout",
     "output_type": "stream",
     "text": [
      "module\n",
      "0\n",
      "1\n"
     ]
    }
   ],
   "source": [
    "from module import suml, prodl\n",
    "\n",
    "zeroes = [0 for i in range(5)]\n",
    "\n",
    "ones = [1 for i in range(5)]\n",
    "\n",
    "print(suml(zeroes))\n",
    "\n",
    "print(prodl(ones))"
   ]
  },
  {
   "cell_type": "code",
   "execution_count": null,
   "id": "assisted-helen",
   "metadata": {},
   "outputs": [],
   "source": []
  }
 ],
 "metadata": {
  "kernelspec": {
   "display_name": "Python 3",
   "language": "python",
   "name": "python3"
  },
  "language_info": {
   "codemirror_mode": {
    "name": "ipython",
    "version": 3
   },
   "file_extension": ".py",
   "mimetype": "text/x-python",
   "name": "python",
   "nbconvert_exporter": "python",
   "pygments_lexer": "ipython3",
   "version": "3.8.5"
  }
 },
 "nbformat": 4,
 "nbformat_minor": 5
}
