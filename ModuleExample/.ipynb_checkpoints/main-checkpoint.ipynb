{
 "cells": [
  {
   "cell_type": "code",
   "execution_count": null,
   "id": "demographic-difference",
   "metadata": {},
   "outputs": [],
   "source": [
    "from module import suml, prodl\n",
    "\n",
    "zeroes = [0 for i in range(5)]\n",
    "\n",
    "ones = [1 for i in range(5)]\n",
    "\n",
    "print(suml(zeroes))\n",
    "\n",
    "print(prodl(ones))"
   ]
  }
 ],
 "metadata": {
  "kernelspec": {
   "display_name": "Python 3",
   "language": "python",
   "name": "python3"
  },
  "language_info": {
   "codemirror_mode": {
    "name": "ipython",
    "version": 3
   },
   "file_extension": ".py",
   "mimetype": "text/x-python",
   "name": "python",
   "nbconvert_exporter": "python",
   "pygments_lexer": "ipython3",
   "version": "3.8.5"
  }
 },
 "nbformat": 4,
 "nbformat_minor": 5
}
