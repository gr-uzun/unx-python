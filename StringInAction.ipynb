{
 "cells": [
  {
   "cell_type": "code",
   "execution_count": 6,
   "metadata": {},
   "outputs": [
    {
     "name": "stdout",
     "output_type": "stream",
     "text": [
      "True\n",
      "True\n"
     ]
    }
   ],
   "source": [
    "# Comparing strings\n",
    "print('alpha' < 'alphabet')\n",
    "print('beta' > 'Beta')"
   ]
  },
  {
   "cell_type": "code",
   "execution_count": 7,
   "metadata": {},
   "outputs": [
    {
     "name": "stdout",
     "output_type": "stream",
     "text": [
      "False\n",
      "True\n",
      "False\n",
      "True\n",
      "True\n",
      "False\n",
      "True\n",
      "False\n",
      "True\n"
     ]
    },
    {
     "ename": "TypeError",
     "evalue": "'>' not supported between instances of 'str' and 'int'",
     "output_type": "error",
     "traceback": [
      "\u001b[0;31m---------------------------------------------------------------------------\u001b[0m",
      "\u001b[0;31mTypeError\u001b[0m                                 Traceback (most recent call last)",
      "\u001b[0;32m<ipython-input-7-ebf0a3c6e47a>\u001b[0m in \u001b[0;36m<module>\u001b[0;34m\u001b[0m\n\u001b[1;32m      8\u001b[0m \u001b[0mprint\u001b[0m\u001b[0;34m(\u001b[0m\u001b[0;34m'10'\u001b[0m \u001b[0;34m==\u001b[0m \u001b[0;36m1\u001b[0m\u001b[0;34m)\u001b[0m \u001b[0;31m# False\u001b[0m\u001b[0;34m\u001b[0m\u001b[0;34m\u001b[0m\u001b[0m\n\u001b[1;32m      9\u001b[0m \u001b[0mprint\u001b[0m\u001b[0;34m(\u001b[0m\u001b[0;34m'10'\u001b[0m \u001b[0;34m!=\u001b[0m \u001b[0;36m1\u001b[0m\u001b[0;34m)\u001b[0m \u001b[0;31m# True\u001b[0m\u001b[0;34m\u001b[0m\u001b[0;34m\u001b[0m\u001b[0m\n\u001b[0;32m---> 10\u001b[0;31m \u001b[0mprint\u001b[0m\u001b[0;34m(\u001b[0m\u001b[0;34m'10'\u001b[0m \u001b[0;34m>\u001b[0m \u001b[0;36m10\u001b[0m\u001b[0;34m)\u001b[0m \u001b[0;31m# Type Error\u001b[0m\u001b[0;34m\u001b[0m\u001b[0;34m\u001b[0m\u001b[0m\n\u001b[0m",
      "\u001b[0;31mTypeError\u001b[0m: '>' not supported between instances of 'str' and 'int'"
     ]
    }
   ],
   "source": [
    "print('10' == '010') # False\n",
    "print('10' > '010') # True\n",
    "print('10' > '8') # False\n",
    "print('20' < '8') # True\n",
    "print('20' < '80') # True\n",
    "print('10' == 10) # False\n",
    "print('10' != 10) # True\n",
    "print('10' == 1) # False\n",
    "print('10' != 1) # True\n",
    "print('10' > 10) # Type Error\n"
   ]
  },
  {
   "cell_type": "code",
   "execution_count": 3,
   "metadata": {},
   "outputs": [
    {
     "name": "stdout",
     "output_type": "stream",
     "text": [
      "['omega', 'alpha', 'pi', 'gamma']\n",
      "['alpha', 'gamma', 'omega', 'pi']\n",
      "\n",
      "['omega', 'alpha', 'pi', 'gamma']\n",
      "['alpha', 'gamma', 'omega', 'pi']\n"
     ]
    }
   ],
   "source": [
    "# Demonstrating the sorted() function:\n",
    "first_greek = ['omega', 'alpha', 'pi', 'gamma']\n",
    "\n",
    "# new list\n",
    "first_greek_2 = sorted(first_greek)\n",
    "\n",
    "print(first_greek)\n",
    "print(first_greek_2)\n",
    "\n",
    "print()\n",
    "\n",
    "# Demonstrating the sort() method:\n",
    "second_greek = ['omega', 'alpha', 'pi', 'gamma']\n",
    "print(second_greek)\n",
    "\n",
    "# same list changed.\n",
    "second_greek.sort()\n",
    "print(second_greek)"
   ]
  },
  {
   "cell_type": "code",
   "execution_count": 8,
   "metadata": {},
   "outputs": [
    {
     "name": "stdout",
     "output_type": "stream",
     "text": [
      "13 1.3\n"
     ]
    }
   ],
   "source": [
    "# Strings vs. numbers\n",
    "itg = 13\n",
    "flt = 1.3\n",
    "si = str(itg)\n",
    "sf = str(flt)\n",
    "\n",
    "print(si + ' ' + sf)"
   ]
  },
  {
   "cell_type": "code",
   "execution_count": 9,
   "metadata": {},
   "outputs": [
    {
     "name": "stdout",
     "output_type": "stream",
     "text": [
      "14.3\n"
     ]
    }
   ],
   "source": [
    "si = '13'\n",
    "sf = '1.3'\n",
    "itg = int(si)\n",
    "flt = float(sf)\n",
    "\n",
    "print(itg + flt)"
   ]
  },
  {
   "cell_type": "markdown",
   "metadata": {},
   "source": [
    "# LAB(seven-segment display.)\n",
    "\n",
    "Scenario\n",
    "\n",
    "You've surely seen a seven-segment display.\n",
    "\n",
    "It's a device (sometimes electronic, sometimes mechanical) designed to present one decimal digit using a subset of seven segments. If you still don't know what it is, refer to the following Wikipedia article.\n",
    "\n",
    "Your task is to write a program which is able to simulate the work of a seven-display device, although you're going to use single LEDs instead of segments.\n",
    "\n",
    "Each digit is constructed from 13 LEDs (some lit, some dark, of course) - that's how we imagine it:\n",
    "  # ### ### # # ### ### ### ### ### ### \n",
    "  #   #   # # # #   #     # # # # # # # \n",
    "  # ### ### ### ### ###   # ### ### # # \n",
    "  # #     #   #   # # #   # # #   # # # \n",
    "  # ### ###   # ### ###   # ### ### ###\n",
    "\n",
    "Note: the number 8 shows all the LED lights on.\n",
    "\n",
    "Your code has to display any non-negative integer number entered by the user.\n",
    "\n",
    "Tip: using a list containing patterns of all ten digits may be very helpful.\n",
    "Test data\n",
    "\n",
    "Sample input:\n",
    "123\n",
    "\n",
    "Sample output:\n",
    "  # ### ### \n",
    "  #   #   # \n",
    "  # ### ### \n",
    "  # #     # \n",
    "  # ### ### \n",
    "\n",
    "Sample input:\n",
    "9081726354\n",
    "\n",
    "Sample output:\n",
    "### ### ###   # ### ### ### ### ### # # \n",
    "# # # # # #   #   #   # #     # #   # # \n",
    "### # # ###   #   # ### ### ### ### ### \n",
    "  # # # # #   #   # #   # #   #   #   # \n",
    "### ### ###   #   # ### ### ### ###   # "
   ]
  },
  {
   "cell_type": "code",
   "execution_count": 19,
   "metadata": {},
   "outputs": [
    {
     "name": "stdout",
     "output_type": "stream",
     "text": [
      "###\n",
      "# #\n",
      "# #\n",
      "# #\n",
      "###\n",
      "\n",
      " # \n",
      " # \n",
      " # \n",
      " # \n",
      " # \n",
      "\n",
      "###\n",
      "  #\n",
      "###\n",
      "#  \n",
      "###\n",
      "\n",
      "###\n",
      "  #\n",
      "###\n",
      "  #\n",
      "###\n",
      "\n"
     ]
    }
   ],
   "source": [
    "def print_led(dgt):\n",
    "    a = [[\"###\",\"# #\",\"# #\",\"# #\",\"###\"],\n",
    "         [\" # \",\" # \",\" # \",\" # \",\" # \"],\n",
    "         [\"###\",\"  #\",\"###\",\"#  \",\"###\"],\n",
    "         [\"###\",\"  #\",\"###\",\"  #\",\"###\"],\n",
    "         [\"# #\",\"# #\",\"###\",\"  #\",\"  #\"],\n",
    "         [\"###\",\"#  \",\"###\",\"  #\",\"###\"],\n",
    "         [\"###\",\"#  \",\"###\",\"# #\",\"###\"],\n",
    "         [\"###\",\"# #\",\"  #\",\"  #\",\"  #\"],\n",
    "         [\"###\",\"# #\",\"###\",\"# #\",\"###\"],\n",
    "         [\"###\",\"# #\",\"###\",\"  #\",\"###\"],\n",
    "        ]\n",
    "    \n",
    "    for y in a[dgt]:\n",
    "        print(y)\n",
    "\n",
    "a = \"0123\"\n",
    "\n",
    "for x in a:\n",
    "    x = int(x)\n",
    "    print_led(x)\n",
    "    print()"
   ]
  },
  {
   "cell_type": "markdown",
   "metadata": {},
   "source": [
    "# The Caesar Cipher: encrypting a message\n",
    "\n",
    "We're going to show you four simple programs in order to present some aspects of string processing in Python. They are purposefully simple, but the lab problems will be significantly more complicated.\n",
    "\n",
    "The first problem we want to show you is called the Caesar cipher - more details here: https://en.wikipedia.org/wiki/Caesar_cipher.\n",
    "\n",
    "This cipher was (probably) invented and used by Gaius Julius Caesar and his troops during the Gallic Wars. The idea is rather simple - every letter of the message is replaced by its nearest consequent (A becomes B, B becomes C, and so on). The only exception is Z, which becomes A.\n",
    "\n",
    "The program in the editor is a very simple (but working) implementation of the algorithm.\n",
    "\n",
    "We've written it using the following assumptions:\n",
    "\n",
    "    it accepts Latin letters only (note: the Romans used neither whitespaces nor digits)\n",
    "    all letters of the message are in upper case (note: the Romans knew only capitals)\n",
    "\n",
    "Let's trace the code:\n",
    "\n",
    "    line 02: ask the user to enter the open (unencrypted), one-line message;\n",
    "    line 03: prepare a string for an encrypted message (empty for now)\n",
    "    line 04: start the iteration through the message;\n",
    "    line 05: if the current character is not alphabetic...\n",
    "    line 06: ...ignore it;\n",
    "    line 07: convert the letter to upper-case (it's preferable to do it blindly, rather than check whether it's needed or not)\n",
    "    line 08: get the code of the letter and increment it by one;\n",
    "    line 09: if the resulting code has \"left\" the Latin alphabet (if it's greater than the Z code)...\n",
    "    line 10: ...change it to the A code;\n",
    "    line 11: append the received character to the end of the encrypted message;\n",
    "    line 13: print the cipher.\n",
    "\n",
    "The code, fed with this message:\n",
    "AVE CAESAR\n",
    "\n",
    "outputs:\n",
    "BWFDBFTBS\n",
    "\n",
    "output\n",
    "\n",
    "Do your own tests."
   ]
  },
  {
   "cell_type": "code",
   "execution_count": 20,
   "metadata": {},
   "outputs": [
    {
     "name": "stdout",
     "output_type": "stream",
     "text": [
      "Enter your message: AVE CAESAR\n",
      "BWFDBFTBS\n"
     ]
    }
   ],
   "source": [
    "# Caesar cipher.\n",
    "\n",
    "text = input(\"Enter your message: \")\n",
    "\n",
    "cipher = ''\n",
    "\n",
    "for char in text:\n",
    "    if not char.isalpha():\n",
    "        continue\n",
    "\n",
    "    char = char.upper()\n",
    "\n",
    "    code = ord(char) + 1\n",
    "\n",
    "    if code > ord('Z'):\n",
    "        code = ord('A')\n",
    "\n",
    "    cipher += chr(code)\n",
    "\n",
    "print(cipher)"
   ]
  },
  {
   "cell_type": "markdown",
   "metadata": {},
   "source": [
    "# The Caesar Cipher: decrypting a message\n",
    "\n",
    "The reverse transformation should now be clear to you - let's just present you with the code as-is, without any explanations.\n",
    "\n",
    "Look at the code in the editor. Check carefully if it works. Use the cryptogram from the previous program."
   ]
  },
  {
   "cell_type": "code",
   "execution_count": 21,
   "metadata": {},
   "outputs": [
    {
     "name": "stdout",
     "output_type": "stream",
     "text": [
      "Enter your cryptogram: BWFDBFTBS\n",
      "AVECAESAR\n"
     ]
    }
   ],
   "source": [
    "# Caesar cipher - decrypting a message.\n",
    "cipher = input('Enter your cryptogram: ')\n",
    "text = ''\n",
    "for char in cipher:\n",
    "    if not char.isalpha():\n",
    "        continue\n",
    "    char = char.upper()\n",
    "    code = ord(char) - 1\n",
    "    if code < ord('A'):\n",
    "        code = ord('Z')\n",
    "    text += chr(code)\n",
    "\n",
    "print(text)"
   ]
  },
  {
   "cell_type": "markdown",
   "metadata": {},
   "source": [
    "# The Numbers Processor\n",
    "\n",
    "The third program shows a simple method allowing you to input a line filled with numbers, and to process them easily. Note: the routine input() function, combined together with the int() or float() functions, is unsuitable for this purpose.\n",
    "\n",
    "The processing will be extremely easy - we want the numbers to be summed.\n",
    "\n",
    "Look at the code in the editor. Let's analyze it.\n",
    "\n",
    "Using list comprehension may make the code slimmer. You can do that if you want.\n",
    "\n",
    "Let's present our version:\n",
    "\n",
    "    line 03: ask the user to enter a line filled with any number of numbers (the numbers can be floats)\n",
    "    line 04: split the line receiving a list of substrings;\n",
    "    line 05: initiate the total sum to zero;\n",
    "    line 06: as the string-float conversion may raise an exception, it's best to continue with the protection of the try-except block;\n",
    "    line 07: iterate through the list...\n",
    "    line 08: ...and try to convert all its elements into float numbers; if it works, increase the sum;\n",
    "    line 09: everything is good so far, so print the sum;\n",
    "    line 10: the program ends here in the case of an error;\n",
    "    line 11: print a diagnostic message showing the user the reason for the failure.\n",
    "\n",
    "The code has one important weakness - it displays a bogus result when the user enters an empty line. Can you fix it?"
   ]
  },
  {
   "cell_type": "code",
   "execution_count": 27,
   "metadata": {},
   "outputs": [
    {
     "name": "stdout",
     "output_type": "stream",
     "text": [
      "Enter a line of numbers - separate them with spaces: 1 3 5 7.1\n",
      "The total is: 16.1\n"
     ]
    }
   ],
   "source": [
    "# Numbers Processor.\n",
    "\n",
    "def calculateTotal(strings):\n",
    "    total = 0\n",
    "    try:\n",
    "        for substr in strings:\n",
    "            total += float(substr)\n",
    "        print(\"The total is:\", total)\n",
    "    except:\n",
    "        print(substr, \"is not a number.\")\n",
    "    \n",
    "line = input(\"Enter a line of numbers - separate them with spaces: \")\n",
    "strings = line.split()\n",
    "\n",
    "if len(strings) == 0:\n",
    "    print(\"numbers are empty\")\n",
    "else:\n",
    "    calculateTotal(strings)"
   ]
  },
  {
   "cell_type": "markdown",
   "metadata": {},
   "source": [
    "# The IBAN Validator\n",
    "\n",
    "The fourth program implements (in a slightly simplified form) an algorithm used by European banks to specify account numbers. The standard named IBAN (International Bank Account Number) provides a simple and fairly reliable method of validating the account numbers against simple typos that can occur during rewriting of the number e.g., from paper documents, like invoices or bills, into computers.\n",
    "\n",
    "You can find more details here: https://en.wikipedia.org/wiki/International_Bank_Account_Number.\n",
    "\n",
    "An IBAN-compliant account number consists of:\n",
    "\n",
    "    a two-letter country code taken from the ISO 3166-1 standard (e.g., FR for France, GB for Great Britain, DE for Germany, and so on)\n",
    "    two check digits used to perform the validity checks - fast and simple, but not fully reliable, tests, showing whether a number is invalid (distorted by a typo) or seems to be good;\n",
    "    the actual account number (up to 30 alphanumeric characters - the length of that part depends on the country)\n",
    "\n",
    "The standard says that validation requires the following steps (according to Wikipedia):\n",
    "\n",
    "    (step 1) Check that the total IBAN length is correct as per the country (this program won't do that, but you can modify the code to meet this requirement if you wish; note: you have to teach the code all the lengths used in Europe)\n",
    "    (step 2) Move the four initial characters to the end of the string (i.e., the country code and the check digits)\n",
    "    (step 3) Replace each letter in the string with two digits, thereby expanding the string, where A = 10, B = 11 ... Z = 35;\n",
    "    (step 4) Interpret the string as a decimal integer and compute the remainder of that number on division by 97; If the remainder is 1, the check digit test is passed and the IBAN might be valid.\n",
    "\n",
    "Look at the code in the editor. Let's analyze it:\n",
    "\n",
    "    line 03: ask the user to enter the IBAN (the number can contain spaces, as they significantly improve number readability...\n",
    "    line 04: ...but remove them immediately)\n",
    "    line 05: the entered IBAN must consist of digits and letters only - if it doesn't...\n",
    "    line 06: ...output the message;\n",
    "    line 07: the IBAN mustn't be shorter than 15 characters (this is the shortest variant, used in Norway)\n",
    "    line 08: if it is shorter, the user is informed;\n",
    "    line 09: moreover, the IBAN cannot be longer than 31 characters (this is the longest variant, used in Malta)\n",
    "    line 10: if it is longer, make an announcement;\n",
    "    line 11: start the actual processing;\n",
    "    line 12: move the four initial characters to the number's end, and convert all letters to upper case (step 02 of the algorithm)\n",
    "    line 13: this is the variable used to complete the number, created by replacing the letters with digits (according to the algorithm's step 03)\n",
    "    line 14: iterate through the IBAN;\n",
    "    line 15: if the character is a digit...\n",
    "    line 16: just copy it;\n",
    "    line 17: otherwise...\n",
    "    line 18: ...convert it into two digits (note the way it's done here)\n",
    "    line 19: the converted form of the IBAN is ready - make an integer out of it;\n",
    "    line 20: is the remainder of the division of iban2 by 97 equal to 1?\n",
    "    line 21: If yes, then success;\n",
    "    line 22: Otherwise...\n",
    "    line 23: ...the number is invalid.\n",
    "\n",
    "Let's add some test data (all these numbers are valid - you can invalidate them by changing any character).\n",
    "\n",
    "    British: GB72 HBZU 7006 7212 1253 00\n",
    "    French: FR76 30003 03620 00020216907 50\n",
    "    German: DE02100100100152517108\n",
    "\n",
    "If you are an EU resident, you can use you own account number for tests."
   ]
  },
  {
   "cell_type": "code",
   "execution_count": 29,
   "metadata": {},
   "outputs": [
    {
     "name": "stdout",
     "output_type": "stream",
     "text": [
      "Enter IBAN, please: GB72 HBZU 7006 7212 1253 00\n",
      "IBAN entered is valid.\n"
     ]
    }
   ],
   "source": [
    "# IBAN Validator.\n",
    "\n",
    "iban = input(\"Enter IBAN, please: \")\n",
    "iban = iban.replace(' ','')\n",
    "\n",
    "if not iban.isalnum():\n",
    "    print(\"You have entered invalid characters.\")\n",
    "elif len(iban) < 15:\n",
    "    print(\"IBAN entered is too short.\")\n",
    "elif len(iban) > 31:\n",
    "    print(\"IBAN entered is too long.\")\n",
    "else:\n",
    "    iban = (iban[4:] + iban[0:4]).upper()\n",
    "    iban2 = ''\n",
    "    for ch in iban:\n",
    "        if ch.isdigit():\n",
    "            iban2 += ch\n",
    "        else:\n",
    "            iban2 += str(10 + ord(ch) - ord('A'))\n",
    "    iban = int(iban2)\n",
    "    if iban % 97 == 1:\n",
    "        print(\"IBAN entered is valid.\")\n",
    "    else:\n",
    "        print(\"IBAN entered is invalid.\")"
   ]
  }
 ],
 "metadata": {
  "kernelspec": {
   "display_name": "Python 3",
   "language": "python",
   "name": "python3"
  },
  "language_info": {
   "codemirror_mode": {
    "name": "ipython",
    "version": 3
   },
   "file_extension": ".py",
   "mimetype": "text/x-python",
   "name": "python",
   "nbconvert_exporter": "python",
   "pygments_lexer": "ipython3",
   "version": "3.8.5"
  }
 },
 "nbformat": 4,
 "nbformat_minor": 5
}
