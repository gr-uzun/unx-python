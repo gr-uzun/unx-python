{
 "cells": [
  {
   "cell_type": "code",
   "execution_count": 1,
   "id": "dying-lodge",
   "metadata": {},
   "outputs": [
    {
     "name": "stdout",
     "output_type": "stream",
     "text": [
      "Abcd\n",
      "Alpha\n",
      "Alpha\n",
      " alpha\n",
      "123\n",
      "Αβγδ\n"
     ]
    }
   ],
   "source": [
    "# Demonstrating the capitalize() method:\n",
    "print('aBcD'.capitalize())\n",
    "print(\"Alpha\".capitalize())\n",
    "print('ALPHA'.capitalize())\n",
    "print(' Alpha'.capitalize())\n",
    "print('123'.capitalize())\n",
    "print(\"αβγδ\".capitalize())"
   ]
  },
  {
   "cell_type": "code",
   "execution_count": 3,
   "id": "generous-correspondence",
   "metadata": {},
   "outputs": [
    {
     "name": "stdout",
     "output_type": "stream",
     "text": [
      "[  alpha   ]\n",
      "[Beta]\n",
      "[Beta]\n",
      "[ Beta ]\n",
      "[*******gamma********]\n"
     ]
    }
   ],
   "source": [
    "# Demonstrating the center() method:\n",
    "print('[' + 'alpha'.center(10) + ']')\n",
    "print('[' + 'Beta'.center(2) + ']')\n",
    "print('[' + 'Beta'.center(4) + ']')\n",
    "print('[' + 'Beta'.center(6) + ']')\n",
    "print('[' + 'gamma'.center(20, '*') + ']')"
   ]
  },
  {
   "cell_type": "code",
   "execution_count": 4,
   "id": "serious-adjustment",
   "metadata": {},
   "outputs": [
    {
     "name": "stdout",
     "output_type": "stream",
     "text": [
      "yes\n"
     ]
    }
   ],
   "source": [
    "# Demonstrating the endswith() method:\n",
    "if \"epsilon\".endswith(\"on\"):\n",
    "    print(\"yes\")\n",
    "else:\n",
    "    print(\"no\")"
   ]
  },
  {
   "cell_type": "code",
   "execution_count": 6,
   "id": "successful-suspension",
   "metadata": {},
   "outputs": [
    {
     "name": "stdout",
     "output_type": "stream",
     "text": [
      "1\n",
      "-1\n",
      "4\n"
     ]
    }
   ],
   "source": [
    "# Demonstrating the find() method:\n",
    "print(\"Eta\".find(\"ta\"))\n",
    "print(\"Eta\".find(\"mma\"))\n",
    "print('kappa'.find('a', 2))"
   ]
  },
  {
   "cell_type": "code",
   "execution_count": 7,
   "id": "broad-database",
   "metadata": {},
   "outputs": [
    {
     "name": "stdout",
     "output_type": "stream",
     "text": [
      "15\n",
      "80\n",
      "198\n",
      "221\n",
      "238\n"
     ]
    }
   ],
   "source": [
    "the_text = \"\"\"A variation of the ordinary lorem ipsum\n",
    "text has been used in typesetting since the 1960s \n",
    "or earlier, when it was popularized by advertisements \n",
    "for Letraset transfer sheets. It was introduced to \n",
    "the Information Age in the mid-1980s by the Aldus Corporation, \n",
    "which employed it in graphics and word-processing templates\n",
    "for its desktop publishing program PageMaker (from Wikipedia)\"\"\"\n",
    "\n",
    "fnd = the_text.find('the')\n",
    "while fnd != -1:\n",
    "    print(fnd)\n",
    "    fnd = the_text.find('the', fnd + 1)"
   ]
  },
  {
   "cell_type": "code",
   "execution_count": 1,
   "id": "improving-chess",
   "metadata": {},
   "outputs": [
    {
     "name": "stdout",
     "output_type": "stream",
     "text": [
      "1\n",
      "-1\n"
     ]
    }
   ],
   "source": [
    "print('kappa'.find('a', 1, 4))\n",
    "print('kappa'.find('a', 2, 4))"
   ]
  },
  {
   "cell_type": "code",
   "execution_count": 1,
   "id": "vanilla-dealer",
   "metadata": {},
   "outputs": [
    {
     "name": "stdout",
     "output_type": "stream",
     "text": [
      "False\n",
      "True\n",
      "True\n"
     ]
    }
   ],
   "source": [
    "# isalnum() checks if the string contains only digits or alphabetical characters (letters)\n",
    "\n",
    "t = 'Six lambdas'\n",
    "print(t.isalnum())\n",
    "\n",
    "t = 'ΑβΓδ'\n",
    "print(t.isalnum())\n",
    "\n",
    "t = '20E1'\n",
    "print(t.isalnum())\n"
   ]
  },
  {
   "cell_type": "code",
   "execution_count": 2,
   "id": "vulnerable-settle",
   "metadata": {},
   "outputs": [
    {
     "name": "stdout",
     "output_type": "stream",
     "text": [
      "True\n",
      "True\n",
      "True\n",
      "False\n",
      "False\n",
      "False\n"
     ]
    }
   ],
   "source": [
    "# Demonstrating the isalnum() method:\n",
    "print('lambda30'.isalnum())\n",
    "print('lambda'.isalnum())\n",
    "print('30'.isalnum())\n",
    "print('@'.isalnum())\n",
    "print('lambda_30'.isalnum())\n",
    "print(''.isalnum())"
   ]
  },
  {
   "cell_type": "code",
   "execution_count": 3,
   "id": "handled-scope",
   "metadata": {},
   "outputs": [
    {
     "name": "stdout",
     "output_type": "stream",
     "text": [
      "True\n",
      "False\n",
      "True\n",
      "False\n"
     ]
    }
   ],
   "source": [
    "# Example 1: Demonstrating the isapha() method:\n",
    "print(\"Moooo\".isalpha())\n",
    "print('Mu40'.isalpha())\n",
    "\n",
    "# Example 2: Demonstrating the isdigit() method:\n",
    "print('2018'.isdigit())\n",
    "print(\"Year2019\".isdigit())"
   ]
  },
  {
   "cell_type": "code",
   "execution_count": 5,
   "id": "thrown-request",
   "metadata": {},
   "outputs": [
    {
     "name": "stdout",
     "output_type": "stream",
     "text": [
      "omicron:pi:rho\n"
     ]
    }
   ],
   "source": [
    "# Demonstrating the join() method:\n",
    "print(\":\".join([\"omicron\", \"pi\", \"rho\"]))"
   ]
  },
  {
   "cell_type": "code",
   "execution_count": 6,
   "id": "brutal-voltage",
   "metadata": {},
   "outputs": [
    {
     "name": "stdout",
     "output_type": "stream",
     "text": [
      "sigma=60\n"
     ]
    }
   ],
   "source": [
    "# Demonstrating the lower() method:\n",
    "print(\"SiGmA=60\".lower())"
   ]
  },
  {
   "cell_type": "code",
   "execution_count": 8,
   "id": "lined-prospect",
   "metadata": {},
   "outputs": [
    {
     "name": "stdout",
     "output_type": "stream",
     "text": [
      "[tau ]\n",
      "cisco.com\n",
      "pythoninstitute.org\n"
     ]
    }
   ],
   "source": [
    "# Demonstrating the lstrip() method:\n",
    "print(\"[\" + \" tau \".lstrip() + \"]\")\n",
    "\n",
    "print(\"www.cisco.com\".lstrip(\"w.\"))\n",
    "\n",
    "print(\"pythoninstitute.org\".lstrip(\".org\"))"
   ]
  },
  {
   "cell_type": "code",
   "execution_count": 10,
   "id": "bibliographic-instruction",
   "metadata": {},
   "outputs": [
    {
     "name": "stdout",
     "output_type": "stream",
     "text": [
      "www.pythoninstitute.org\n",
      "Thare are it!\n",
      "Apple \n",
      "Thare is it!\n",
      "Thare are it!\n"
     ]
    }
   ],
   "source": [
    "# Demonstrating the replace() method:\n",
    "print(\"www.netacad.com\".replace(\"netacad.com\", \"pythoninstitute.org\"))\n",
    "print(\"This is it!\".replace(\"is\", \"are\"))\n",
    "print(\"Apple juice\".replace(\"juice\", \"\"))\n",
    "print(\"This is it!\".replace(\"is\", \"are\", 1))\n",
    "print(\"This is it!\".replace(\"is\", \"are\", 2))"
   ]
  },
  {
   "cell_type": "code",
   "execution_count": 12,
   "id": "southwest-decrease",
   "metadata": {},
   "outputs": [
    {
     "name": "stdout",
     "output_type": "stream",
     "text": [
      "8\n",
      "-1\n",
      "4\n"
     ]
    }
   ],
   "source": [
    "# Demonstrating the rfind() method:\n",
    "# start their searches from the end of the string, not the beginning (hence the prefix r, for right).\n",
    "print(\"tau tau tau\".rfind(\"ta\"))\n",
    "print(\"tau tau tau\".rfind(\"ta\", 9))\n",
    "print(\"tau tau tau\".rfind(\"ta\", 3, 9))"
   ]
  },
  {
   "cell_type": "code",
   "execution_count": 18,
   "id": "destroyed-roller",
   "metadata": {},
   "outputs": [
    {
     "name": "stdout",
     "output_type": "stream",
     "text": [
      "[ upsilon]\n",
      "cis\n",
      "[aleph]\n",
      "[aleph   ]\n",
      "[   aleph]\n"
     ]
    }
   ],
   "source": [
    "# Demonstrating the rstrip() method:\n",
    "print(\"[\" + \" upsilon \".rstrip() + \"]\")\n",
    "print(\"cisco.com\".rstrip(\".com\"))\n",
    "\n",
    "# Demonstrating the strip() method:\n",
    "print(\"[\" + \"   aleph   \".strip() + \"]\")\n",
    "print(\"[\" + \"   aleph   \".lstrip() + \"]\")\n",
    "print(\"[\" + \"   aleph   \".rstrip() + \"]\")"
   ]
  },
  {
   "cell_type": "code",
   "execution_count": 14,
   "id": "lightweight-paris",
   "metadata": {},
   "outputs": [
    {
     "name": "stdout",
     "output_type": "stream",
     "text": [
      "['phi', 'chi', 'psi']\n"
     ]
    }
   ],
   "source": [
    "# Demonstrating the split() method:\n",
    "print(\"phi       chi\\npsi\".split())"
   ]
  },
  {
   "cell_type": "code",
   "execution_count": 17,
   "id": "quality-service",
   "metadata": {},
   "outputs": [
    {
     "name": "stdout",
     "output_type": "stream",
     "text": [
      "False\n",
      "True\n"
     ]
    }
   ],
   "source": [
    "# Demonstrating the startswith() method:\n",
    "print(\"omega\".startswith(\"meg\"))\n",
    "print(\"omega\".startswith(\"om\"))"
   ]
  },
  {
   "cell_type": "code",
   "execution_count": 19,
   "id": "civilian-serbia",
   "metadata": {},
   "outputs": [
    {
     "name": "stdout",
     "output_type": "stream",
     "text": [
      "i KNOW THAT i KNOW NOTHING.\n",
      "\n",
      "I Know That I Know Nothing. Part 1.\n",
      "\n",
      "I KNOW THAT I KNOW NOTHING. PART 2.\n"
     ]
    }
   ],
   "source": [
    "# Demonstrating the swapcase() method:\n",
    "print(\"I know that I know nothing.\".swapcase())\n",
    "\n",
    "print()\n",
    "\n",
    "# Demonstrating the title() method:\n",
    "print(\"I know that I know nothing. Part 1.\".title())\n",
    "\n",
    "print()\n",
    "\n",
    "# Demonstrating the upper() method:\n",
    "print(\"I know that I know nothing. Part 2.\".upper())"
   ]
  },
  {
   "cell_type": "code",
   "execution_count": 21,
   "id": "blocked-stranger",
   "metadata": {},
   "outputs": [
    {
     "name": "stdout",
     "output_type": "stream",
     "text": [
      "['To', 'be', 'or', 'not', 'to', 'be,', 'that', 'is', 'the', 'question']\n",
      "['To', 'be', 'or', 'not', 'to', 'be,that', 'is', 'the', 'question']\n",
      "[]\n",
      "['abc']\n",
      "[]\n"
     ]
    }
   ],
   "source": [
    "def mysplit(strng):\n",
    "    return strng.split()\n",
    "\n",
    "\n",
    "print(mysplit(\"To be or not to be, that is the question\"))\n",
    "print(mysplit(\"To be or not to be,that is the question\"))\n",
    "print(mysplit(\"   \"))\n",
    "print(mysplit(\" abc \"))\n",
    "print(mysplit(\"\"))"
   ]
  }
 ],
 "metadata": {
  "kernelspec": {
   "display_name": "Python 3",
   "language": "python",
   "name": "python3"
  },
  "language_info": {
   "codemirror_mode": {
    "name": "ipython",
    "version": 3
   },
   "file_extension": ".py",
   "mimetype": "text/x-python",
   "name": "python",
   "nbconvert_exporter": "python",
   "pygments_lexer": "ipython3",
   "version": "3.8.5"
  }
 },
 "nbformat": 4,
 "nbformat_minor": 5
}
