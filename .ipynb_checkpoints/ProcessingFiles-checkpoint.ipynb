{
 "cells": [
  {
   "cell_type": "code",
   "execution_count": 3,
   "metadata": {},
   "outputs": [
    {
     "name": "stdout",
     "output_type": "stream",
     "text": [
      "The file doesn't exist.\n"
     ]
    }
   ],
   "source": [
    "import errno\n",
    "\n",
    "try:\n",
    "    s = open(\"c:/users/user/Desktop/file.txt\", \"rt\")\n",
    "    # Actual processing goes here.\n",
    "    s.close()\n",
    "except Exception as exc:\n",
    "    if exc.errno == errno.ENOENT:\n",
    "        print(\"The file doesn't exist.\")\n",
    "    elif exc.errno == errno.EMFILE:\n",
    "        print(\"You've opened too many files.\")\n",
    "    else:\n",
    "        printf(\"The error number is:\", exc.errno)"
   ]
  },
  {
   "cell_type": "code",
   "execution_count": 4,
   "metadata": {},
   "outputs": [
    {
     "name": "stdout",
     "output_type": "stream",
     "text": [
      "The file could not be opened: No such file or directory\n"
     ]
    }
   ],
   "source": [
    "from os import strerror\n",
    "\n",
    "try:\n",
    "    s = open(\"c:/users/user/Desktop/file.txt\", \"rt\")\n",
    "    # Actual processing goes here.\n",
    "    s.close()\n",
    "except Exception as exc:\n",
    "    print(\"The file could not be opened:\", strerror(exc.errno))"
   ]
  },
  {
   "cell_type": "code",
   "execution_count": 6,
   "metadata": {},
   "outputs": [
    {
     "name": "stdout",
     "output_type": "stream",
     "text": [
      "The Zen of Python\n",
      "\n",
      "=================\n",
      "\n",
      "\n",
      "\n",
      "::\n",
      "\n",
      "\n",
      "\n",
      "    Beautiful is better than ugly.\n",
      "\n",
      "    Explicit is better than implicit.\n",
      "\n",
      "    Simple is better than complex.\n",
      "\n",
      "    Complex is better than complicated.\n",
      "\n",
      "    Flat is better than nested.\n",
      "\n",
      "    Sparse is better than dense.\n",
      "\n",
      "    Readability counts.\n",
      "\n",
      "    Special cases aren't special enough to break the rules.\n",
      "\n",
      "    Although practicality beats purity.\n",
      "\n",
      "    Errors should never pass silently.\n",
      "\n",
      "    Unless explicitly silenced.\n",
      "\n",
      "    In the face of ambiguity, refuse the temptation to guess.\n",
      "\n",
      "    There should be one-- and preferably only one --obvious way to do it.\n",
      "\n",
      "    Although that way may not be obvious at first unless you're Dutch.\n",
      "\n",
      "    Now is better than never.\n",
      "\n",
      "    Although never is often better than *right* now.\n",
      "\n",
      "    If the implementation is hard to explain, it's a bad idea.\n",
      "\n",
      "    If the implementation is easy to explain, it may be a good idea.\n",
      "\n",
      "    Namespaces are one honking great idea -- let's do more of those!\n",
      "\n",
      "\n",
      "\n",
      "\n",
      "\n",
      "\n",
      "\n",
      "----------------\n",
      "\n",
      "source: https://github.com/python/peps/blob/master/pep-0020.txt\n",
      "\n",
      "Prev Next\n"
     ]
    }
   ],
   "source": [
    "# Processing text files\n",
    "# Opening tzop.txt in read mode, returning it as a file object:\n",
    "stream = open(\"./files/tzop.txt\", \"rt\", encoding = \"utf-8\")\n",
    "\n",
    "print(stream.read()) # printing the content of the file\n",
    "\n",
    "stream.close()"
   ]
  },
  {
   "cell_type": "code",
   "execution_count": 8,
   "metadata": {},
   "outputs": [
    {
     "name": "stdout",
     "output_type": "stream",
     "text": [
      "Beautiful is better than ugly.\n",
      "Explicit is better than implicit.\n",
      "Simple is better than complex.\n",
      "Complex is better than complicated.\n",
      "\n",
      "Characters in file: 131\n"
     ]
    }
   ],
   "source": [
    "# Processing text files\n",
    "\n",
    "from os import strerror\n",
    "\n",
    "try:\n",
    "    cnt = 0\n",
    "    s = open('./files/text.txt', \"rt\")\n",
    "    ch = s.read(1)\n",
    "    while ch != '':\n",
    "        print(ch, end='')\n",
    "        cnt += 1\n",
    "        ch = s.read(1)\n",
    "    s.close()\n",
    "    print(\"\\n\\nCharacters in file:\", cnt)\n",
    "except IOError as e:\n",
    "    print(\"I/O error occurred: \", strerr(e.errno))\n"
   ]
  },
  {
   "cell_type": "code",
   "execution_count": 9,
   "metadata": {},
   "outputs": [
    {
     "name": "stdout",
     "output_type": "stream",
     "text": [
      "Beautiful is better than ugly.\n",
      "Explicit is better than implicit.\n",
      "Simple is better than complex.\n",
      "Complex is better than complicated.\n",
      "\n",
      "Characters in file: 131\n"
     ]
    }
   ],
   "source": [
    "# Processing text files\n",
    "\n",
    "from os import strerror\n",
    "\n",
    "try:\n",
    "    cnt = 0\n",
    "    s = open('./files/text.txt', \"rt\")\n",
    "    content = s.read()\n",
    "    for ch in content:\n",
    "        print(ch, end='')\n",
    "        cnt += 1\n",
    "        ch = s.read(1)\n",
    "    s.close()\n",
    "    print(\"\\n\\nCharacters in file:\", cnt)\n",
    "except IOError as e:\n",
    "    print(\"I/O error occurred: \", strerr(e.errno))\n"
   ]
  },
  {
   "cell_type": "code",
   "execution_count": 10,
   "metadata": {},
   "outputs": [
    {
     "name": "stdout",
     "output_type": "stream",
     "text": [
      "Beautiful is better than ugly.\n",
      "Explicit is better than implicit.\n",
      "Simple is better than complex.\n",
      "Complex is better than complicated.\n",
      "\n",
      "Characters in file: 131\n",
      "Lines in file:      4\n"
     ]
    }
   ],
   "source": [
    "# Processing text files: readline()\n",
    "\n",
    "from os import strerror\n",
    "\n",
    "try:\n",
    "    ccnt = lcnt = 0\n",
    "    s = open('./files/text.txt', 'rt')\n",
    "    line = s.readline()\n",
    "    while line != '':\n",
    "        lcnt += 1\n",
    "        for ch in line:\n",
    "            print(ch, end='')\n",
    "            ccnt += 1\n",
    "        line = s.readline()\n",
    "    s.close()\n",
    "    print(\"\\n\\nCharacters in file:\", ccnt)\n",
    "    print(\"Lines in file:     \", lcnt)\n",
    "except IOError as e:\n",
    "    print(\"I/O error occurred:\", strerr(e.errno))"
   ]
  },
  {
   "cell_type": "code",
   "execution_count": 11,
   "metadata": {},
   "outputs": [
    {
     "name": "stdout",
     "output_type": "stream",
     "text": [
      "Beautiful is better than ugly.\n",
      "Explicit is better than implicit.\n",
      "Simple is better than complex.\n",
      "Complex is better than complicated.\n",
      "\n",
      "Characters in file: 131\n",
      "Lines in file:      4\n"
     ]
    }
   ],
   "source": [
    "# Processing text files: readlines()\n",
    "\n",
    "from os import strerror\n",
    "\n",
    "try:\n",
    "    ccnt = lcnt = 0\n",
    "    s = open('./files/text.txt', 'rt')\n",
    "    lines = s.readlines(20)\n",
    "    while len(lines) != 0:\n",
    "        for line in lines:\n",
    "            lcnt += 1\n",
    "            for ch in line:\n",
    "                print(ch, end='')\n",
    "                ccnt += 1\n",
    "        lines = s.readlines(10)\n",
    "    s.close()\n",
    "    print(\"\\n\\nCharacters in file:\", ccnt)\n",
    "    print(\"Lines in file:     \", lcnt)\n",
    "except IOError as e:\n",
    "    print(\"I/O error occurred:\", strerr(e.errno))"
   ]
  },
  {
   "cell_type": "markdown",
   "metadata": {},
   "source": [
    "The last example we want to present shows a very interesting trait of the object returned by the open() function in text mode.\n",
    "\n",
    "We think it may surprise you - the object is an instance of the iterable class.\n",
    "\n",
    "Strange? Not at all. Usable? Yes, absolutely.\n",
    "\n",
    "The iteration protocol defined for the file object is very simple - its __next__ method just returns the next line read in from the file.\n",
    "\n",
    "Moreover, you can expect that the object automatically invokes close() when any of the file reads reaches the end of the file."
   ]
  },
  {
   "cell_type": "code",
   "execution_count": 12,
   "metadata": {},
   "outputs": [
    {
     "name": "stdout",
     "output_type": "stream",
     "text": [
      "Beautiful is better than ugly.\n",
      "Explicit is better than implicit.\n",
      "Simple is better than complex.\n",
      "Complex is better than complicated.\n",
      "\n",
      "Characters in file: 131\n",
      "Lines in file:      4\n"
     ]
    }
   ],
   "source": [
    "from os import strerror\n",
    "\n",
    "try:\n",
    "    ccnt = lcnt = 0\n",
    "    for line in open('./files/text.txt', 'rt'):\n",
    "        lcnt += 1\n",
    "        for ch in line:\n",
    "            print(ch, end='')\n",
    "            ccnt += 1\n",
    "    print(\"\\n\\nCharacters in file:\", ccnt)\n",
    "    print(\"Lines in file:     \", lcnt)\n",
    "except IOError as e:\n",
    "    print(\"I/O error occurred: \", strerr(e.errno))\n"
   ]
  },
  {
   "cell_type": "code",
   "execution_count": 13,
   "metadata": {},
   "outputs": [],
   "source": [
    "# Dealing with text files: write()\n",
    "\n",
    "from os import strerror\n",
    "\n",
    "try:\n",
    "\tfo = open('./files/newtext.txt', 'wt') # A new file (newtext.txt) is created.\n",
    "\tfor i in range(10):\n",
    "\t\ts = \"line #\" + str(i+1) + \"\\n\"\n",
    "\t\tfor ch in s:\n",
    "\t\t\tfo.write(ch)\n",
    "\tfo.close()\n",
    "except IOError as e:\n",
    "\tprint(\"I/O error occurred: \", strerr(e.errno))"
   ]
  },
  {
   "cell_type": "code",
   "execution_count": 15,
   "metadata": {},
   "outputs": [],
   "source": [
    "# The contents of the newly created file are the same.\n",
    "\n",
    "from os import strerror\n",
    "\n",
    "try:\n",
    "    fo = open('./files/newtext.txt', 'wt')\n",
    "    for i in range(10):\n",
    "        fo.write(\"line #\" + str(i+1) + \"\\n\")\n",
    "    fo.close()\n",
    "except IOError as e:\n",
    "    print(\"I/O error occurred: \", strerr(e.errno))"
   ]
  },
  {
   "cell_type": "code",
   "execution_count": 18,
   "metadata": {},
   "outputs": [
    {
     "name": "stdout",
     "output_type": "stream",
     "text": [
      "Info message"
     ]
    },
    {
     "name": "stderr",
     "output_type": "stream",
     "text": [
      "Error message"
     ]
    }
   ],
   "source": [
    "import sys\n",
    "sys.stderr.write(\"Error message\")\n",
    "sys.stdout.write(\"Info message\")"
   ]
  },
  {
   "cell_type": "markdown",
   "metadata": {},
   "source": [
    "What is a bytearray?\n",
    "\n",
    "Before we start talking about binary files, we have to tell you about one of the specialized classes Python uses to store amorphous data.\n",
    "\n",
    "Amorphous data is data which have no specific shape or form - they are just a series of bytes."
   ]
  },
  {
   "cell_type": "code",
   "execution_count": 20,
   "metadata": {},
   "outputs": [
    {
     "name": "stdout",
     "output_type": "stream",
     "text": [
      "0xa\n",
      "0x9\n",
      "0x8\n",
      "0x7\n",
      "0x6\n",
      "0x5\n",
      "0x4\n",
      "0x3\n",
      "0x2\n",
      "0x1\n"
     ]
    }
   ],
   "source": [
    "data = bytearray(10)\n",
    "\n",
    "for i in range(len(data)):\n",
    "    data[i] = 10 - i\n",
    "\n",
    "for b in data:\n",
    "    print(hex(b))"
   ]
  },
  {
   "cell_type": "code",
   "execution_count": 21,
   "metadata": {},
   "outputs": [],
   "source": [
    "from os import strerror\n",
    "\n",
    "data = bytearray(10)\n",
    "\n",
    "for i in range(len(data)):\n",
    "    data[i] = 10 + i\n",
    "\n",
    "try:\n",
    "    bf = open('./files/file.bin', 'wb')\n",
    "    bf.write(data)\n",
    "    bf.close()\n",
    "except IOError as e:\n",
    "    print(\"I/O error occurred:\", strerr(e.errno))"
   ]
  },
  {
   "cell_type": "code",
   "execution_count": 22,
   "metadata": {},
   "outputs": [
    {
     "name": "stdout",
     "output_type": "stream",
     "text": [
      "0xa 0xb 0xc 0xd 0xe 0xf 0x10 0x11 0x12 0x13 "
     ]
    }
   ],
   "source": [
    "from os import strerror\n",
    "\n",
    "data = bytearray(10)\n",
    "\n",
    "try:\n",
    "    bf = open('./files/file.bin', 'rb')\n",
    "    bf.readinto(data)\n",
    "    bf.close()\n",
    "\n",
    "    for b in data:\n",
    "        print(hex(b), end=' ')\n",
    "except IOError as e:\n",
    "    print(\"I/O error occurred:\", strerr(e.errno))"
   ]
  },
  {
   "cell_type": "markdown",
   "metadata": {},
   "source": [
    "How to read bytes from a stream\n",
    "\n",
    "An alternative way of reading the contents of a binary file is offered by the method named read().\n",
    "\n",
    "Invoked without arguments, it tries to read all the contents of the file into the memory, making them a part of a newly created object of the bytes class.\n",
    "\n",
    "This class has some similarities to bytearray, with the exception of one significant difference - it's immutable.\n",
    "\n",
    "Be careful - don't use this kind of read if you're not sure that the file's contents will fit the available memory."
   ]
  },
  {
   "cell_type": "code",
   "execution_count": 23,
   "metadata": {},
   "outputs": [
    {
     "name": "stdout",
     "output_type": "stream",
     "text": [
      "0xa 0xb 0xc 0xd 0xe 0xf 0x10 0x11 0x12 0x13 "
     ]
    }
   ],
   "source": [
    "from os import strerror\n",
    "\n",
    "try:\n",
    "    bf = open('./files/file.bin', 'rb')\n",
    "    data = bytearray(bf.read())\n",
    "    bf.close()\n",
    "\n",
    "    for b in data:\n",
    "        print(hex(b), end=' ')\n",
    "\n",
    "except IOError as e:\n",
    "    print(\"I/O error occurred:\", strerr(e.errno))"
   ]
  },
  {
   "cell_type": "code",
   "execution_count": 25,
   "metadata": {},
   "outputs": [
    {
     "name": "stdout",
     "output_type": "stream",
     "text": [
      "0xa 0xb 0xc 0xd 0xe "
     ]
    }
   ],
   "source": [
    "# If the read() method is invoked with an argument, it specifies the maximum number of bytes to be read.\n",
    "\n",
    "try:\n",
    "    bf = open('./files/file.bin', 'rb')\n",
    "    data = bytearray(bf.read(5))\n",
    "    bf.close()\n",
    "\n",
    "    for b in data:\n",
    "        print(hex(b), end=' ')\n",
    "\n",
    "except IOError as e:\n",
    "    print(\"I/O error occurred:\", strerr(e.errno))"
   ]
  },
  {
   "cell_type": "code",
   "execution_count": 26,
   "metadata": {},
   "outputs": [
    {
     "name": "stdout",
     "output_type": "stream",
     "text": [
      "10 byte(s) succesfully written\n"
     ]
    }
   ],
   "source": [
    "# Copying files - a simple and functional tool\n",
    "\n",
    "from os import strerror\n",
    "\n",
    "# srcname = input(\"Enter the source file name: \")\n",
    "srcname = './files/file.bin'\n",
    "\n",
    "try:\n",
    "    src = open(srcname, 'rb')\n",
    "except IOError as e:\n",
    "    print(\"Cannot open the source file: \", strerror(e.errno))\n",
    "    exit(e.errno)\t\n",
    "\n",
    "# dstname = input(\"Enter the destination file name: \")\n",
    "dstname = './files/file_dest.bin'\n",
    "\n",
    "try:\n",
    "    dst = open(dstname, 'wb')\n",
    "except Exception as e:\n",
    "    print(\"Cannot create the destination file: \", strerr(e.errno))\n",
    "    src.close()\n",
    "    exit(e.errno)\t\n",
    "\n",
    "buffer = bytearray(65536)\n",
    "total  = 0\n",
    "try:\n",
    "    readin = src.readinto(buffer)\n",
    "    while readin > 0:\n",
    "        written = dst.write(buffer[:readin])\n",
    "        total += written\n",
    "        readin = src.readinto(buffer)\n",
    "except IOError as e:\n",
    "    print(\"Cannot create the destination file: \", strerr(e.errno))\n",
    "    exit(e.errno)\t\n",
    "    \n",
    "print(total,'byte(s) succesfully written')\n",
    "src.close()\n",
    "dst.close()\n"
   ]
  },
  {
   "cell_type": "markdown",
   "metadata": {},
   "source": [
    "# LAB: Character frequency histogram\n",
    "\n",
    "Scenario\n",
    "\n",
    "A text file contains some text (nothing unusual) but we need to know how often (or how rare) each letter appears in the text. Such an analysis may be useful in cryptography, so we want to be able to do that in reference to the Latin alphabet.\n",
    "\n",
    "Your task is to write a program which:\n",
    "\n",
    "    asks the user for the input file's name;\n",
    "    reads the file (if possible) and counts all the Latin letters (lower- and upper-case letters are treated as equal)\n",
    "    prints a simple histogram in alphabetical order (only non-zero counts should be presented)\n",
    "\n",
    "Create a test file for the code, and check if your histogram contains valid results.\n",
    "\n",
    "Assuming that the test file contains just one line filled with:\n",
    "aBc\n",
    "\n",
    "samplefile.txt\n",
    "\n",
    "the expected output should look as follows:\n",
    "a -> 1\n",
    "b -> 1\n",
    "c -> 1\n",
    "\n",
    "output\n",
    "\n",
    "Tip: We think that a dictionary is a perfect data collection medium for storing the counts. The letters may be keys while the counters can be values."
   ]
  },
  {
   "cell_type": "code",
   "execution_count": 35,
   "metadata": {},
   "outputs": [
    {
     "name": "stdout",
     "output_type": "stream",
     "text": [
      "data :  aBc\n",
      "dictionary :  {'a': 1, 'b': 1, 'c': 1}\n",
      "a -> 1\n",
      "b -> 1\n",
      "c -> 1\n"
     ]
    }
   ],
   "source": [
    "#filename = input('Please enter file name')\n",
    "\n",
    "filename = \"./files/samplefile.txt\"\n",
    "\n",
    "stream = open(filename, \"rt\", encoding = \"utf-8\")\n",
    "\n",
    "data = stream.read()\n",
    "\n",
    "stream.close()\n",
    "\n",
    "print(\"data : \",data)\n",
    "\n",
    "dictionary = {\"a\":0,\"b\":0,\"c\":0}\n",
    "\n",
    "for ch in data:\n",
    "    for key in dictionary.keys():\n",
    "        if key.lower() == ch.lower() :\n",
    "            x = dictionary[key]\n",
    "            x += 1\n",
    "            dictionary[key] = x\n",
    "\n",
    "print(\"dictionary : \",dictionary)\n",
    "\n",
    "for key in dictionary.keys():\n",
    "    print(key,\"->\",dictionary[key])\n"
   ]
  },
  {
   "cell_type": "markdown",
   "metadata": {},
   "source": [
    "# LAB: Sorted character frequency histogram\n",
    "\n",
    "Scenario\n",
    "\n",
    "The previous code needs to be improved. It's okay, but it has to be better.\n",
    "\n",
    "Your task is to make some amendments, which generate the following results:\n",
    "\n",
    "    the output histogram will be sorted based on the characters' frequency (the bigger counter should be presented first)\n",
    "    the histogram should be sent to a file with the same name as the input one, but with the suffix '.hist' (it should be concatenated to the original name)\n",
    "\n",
    "Assuming that the input file contains just one line filled with:\n",
    "cBabAa\n",
    "\n",
    "samplefile02.txt\n",
    "\n",
    "the expected output should look as follows:\n",
    "a -> 3\n",
    "b -> 2\n",
    "c -> 1\n",
    "\n",
    "output\n",
    "\n",
    "Tip: Use a lambda to change the sort order."
   ]
  },
  {
   "cell_type": "code",
   "execution_count": 34,
   "metadata": {},
   "outputs": [
    {
     "name": "stdout",
     "output_type": "stream",
     "text": [
      "data :  cBabAa\n",
      "\n",
      "dictionary :  {'b': 2, 'c': 1, 'a': 3}\n",
      "sorted_d :  [('a', 3), ('b', 2), ('c', 1)]\n",
      "a -> 3\n",
      "b -> 2\n",
      "c -> 1\n"
     ]
    }
   ],
   "source": [
    "#filename = input('Please enter file name')\n",
    "\n",
    "filename = \"./files/samplefile02.txt\"\n",
    "\n",
    "stream = open(filename, \"rt\", encoding = \"utf-8\")\n",
    "\n",
    "data = stream.read()\n",
    "\n",
    "stream.close()\n",
    "\n",
    "print(\"data : \",data)\n",
    "\n",
    "# a is located as latest to test sorting\n",
    "dictionary = {\"b\":0,\"c\":0,\"a\":0}\n",
    "\n",
    "for ch in data:\n",
    "    for key in dictionary.keys():\n",
    "        if key.lower() == ch.lower() :\n",
    "            x = dictionary[key]\n",
    "            x += 1\n",
    "            dictionary[key] = x\n",
    "\n",
    "\n",
    "\n",
    "print(\"dictionary : \",dictionary)\n",
    "\n",
    "sorted_d = sorted(dictionary.items(),key=lambda x: x[1],reverse=True)\n",
    "\n",
    "print(\"sorted_d : \",sorted_d)\n",
    "\n",
    "for t in sorted_d:\n",
    "    print(t[0],'->',t[1])"
   ]
  },
  {
   "cell_type": "markdown",
   "metadata": {},
   "source": [
    "# LAB: Evaluating students' results\n",
    "\n",
    "Scenario\n",
    "\n",
    "Prof. Jekyll conducts classes with students and regularly makes notes in a text file. Each line of the file contains three elements: the student's first name, the student's last name, and the number of point the student received during certain classes.\n",
    "\n",
    "The elements are separated with white spaces. Each student may appear more than once inside Prof. Jekyll's file.\n",
    "\n",
    "The file may look as follows:\n",
    "John\tSmith\t5\n",
    "Anna\tBoleyn\t4.5\n",
    "John\tSmith\t2\n",
    "Anna\tBoleyn\t11\n",
    "Andrew\tCox\t1.5\n",
    "\n",
    "samplefile.txt\n",
    "\n",
    "Your task is to write a program which:\n",
    "\n",
    "    asks the user for Prof. Jekyll's file name;\n",
    "    reads the file contents and counts the sum of the received points for each student;\n",
    "    prints a simple (but sorted) report, just like this one:\n",
    "\n",
    "Andrew Cox \t 1.5\n",
    "Anna Boleyn \t 15.5\n",
    "John Smith \t 7.0\n",
    "\n",
    "output\n",
    "\n",
    "Note:\n",
    "\n",
    "    your program must be fully protected against all possible failures: the file's non-existence, the file's emptiness, or any input data failures; encountering any data error should cause immediate program termination, and the erroneous should be presented to the user;\n",
    "    implement and use your own exceptions hierarchy - we've presented it in the editor; the second exception should be raised when a bad line is detect, and the third when the source file exists but is empty.\n",
    "\n",
    "Tip: Use a dictionary to store the students' data."
   ]
  },
  {
   "cell_type": "code",
   "execution_count": 5,
   "metadata": {},
   "outputs": [
    {
     "name": "stdout",
     "output_type": "stream",
     "text": [
      "BadLine\n",
      "FileEmpty\n",
      "['John', 'Smith', '5']\n",
      "['Anna', 'Boleyn', '4.5']\n",
      "['John', 'Smith', '2']\n",
      "['Anna', 'Boleyn', '11']\n",
      "['Andrew', 'Cox', '1.5']\n",
      "{'John Smith': 7.0, 'Anna Boleyn': 15.5, 'Andrew Cox': 1.5}\n",
      "sorted_d :  [('Andrew Cox', 1.5), ('Anna Boleyn', 15.5), ('John Smith', 7.0)]\n",
      "Andrew Cox -> 1.5\n",
      "Anna Boleyn -> 15.5\n",
      "John Smith -> 7.0\n"
     ]
    }
   ],
   "source": [
    "# TODO complete exceptions\n",
    "\n",
    "from os import strerror\n",
    "\n",
    "class StudentsDataException(Exception):\n",
    "    pass\n",
    "\n",
    "\n",
    "class BadLine(StudentsDataException):\n",
    "    # Write your code here.\n",
    "    print(\"BadLine\")\n",
    "\n",
    "class FileEmpty(StudentsDataException):\n",
    "    # Write your code here.\n",
    "    print(\"FileEmpty\")\n",
    "\n",
    "#filename = input('Please enter file name')\n",
    "\n",
    "filename = \"./files/samplefile03.txt\"\n",
    "\n",
    "try:\n",
    "    stream = open(filename, \"rt\", encoding = \"utf-8\")\n",
    "except Exception as exc:\n",
    "    print(\"The file could not be opened:\", strerror(exc.errno))\n",
    "    raise \n",
    "   \n",
    "\n",
    "line = stream.readline()\n",
    "\n",
    "dictionary = {}\n",
    "\n",
    "while line != '':\n",
    "\n",
    "    # print(line)\n",
    "    \n",
    "    line_items = line.split()\n",
    "    \n",
    "    key = line_items[0] + \" \" + line_items[1]\n",
    "    valueNew = float(line_items[2])\n",
    "    \n",
    "    value = 0\n",
    "    try :\n",
    "        value = float(dictionary[key])\n",
    "        value += valueNew\n",
    "    except :\n",
    "        value = valueNew\n",
    "\n",
    "    dictionary[key] = value\n",
    "        \n",
    "    print(line_items)\n",
    "\n",
    "    line = stream.readline()\n",
    "\n",
    "print(dictionary)\n",
    "\n",
    "sorted_d = sorted(dictionary.items(),key=lambda x: x[0])\n",
    "\n",
    "print(\"sorted_d : \",sorted_d)\n",
    "\n",
    "for t in sorted_d:\n",
    "    print(t[0],'->',t[1])\n"
   ]
  },
  {
   "cell_type": "code",
   "execution_count": null,
   "metadata": {},
   "outputs": [],
   "source": []
  }
 ],
 "metadata": {
  "kernelspec": {
   "display_name": "Python 3",
   "language": "python",
   "name": "python3"
  },
  "language_info": {
   "codemirror_mode": {
    "name": "ipython",
    "version": 3
   },
   "file_extension": ".py",
   "mimetype": "text/x-python",
   "name": "python",
   "nbconvert_exporter": "python",
   "pygments_lexer": "ipython3",
   "version": "3.8.5"
  }
 },
 "nbformat": 4,
 "nbformat_minor": 4
}
