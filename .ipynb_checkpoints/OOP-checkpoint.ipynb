{
 "cells": [
  {
   "cell_type": "code",
   "execution_count": 1,
   "metadata": {},
   "outputs": [
    {
     "name": "stdout",
     "output_type": "stream",
     "text": [
      "1\n",
      "2\n",
      "3\n"
     ]
    }
   ],
   "source": [
    "# The stack - the procedural approach\n",
    "\n",
    "stack = []\n",
    "\n",
    "def push(val):\n",
    "    stack.append(val)\n",
    "\n",
    "def pop():\n",
    "    val = stack[-1]\n",
    "    del stack[-1]\n",
    "    return val\n",
    "\n",
    "push(3)\n",
    "push(2)\n",
    "push(1)\n",
    "\n",
    "print(pop())\n",
    "print(pop())\n",
    "print(pop())"
   ]
  },
  {
   "cell_type": "code",
   "execution_count": 2,
   "metadata": {},
   "outputs": [
    {
     "name": "stdout",
     "output_type": "stream",
     "text": [
      "Hi!\n"
     ]
    }
   ],
   "source": [
    "class Stack:  # Defining the Stack class.\n",
    "    def __init__(self):  # Defining the constructor function.\n",
    "        print(\"Hi!\")\n",
    "\n",
    "\n",
    "stack_object = Stack()  # Instantiating the object."
   ]
  },
  {
   "cell_type": "code",
   "execution_count": 3,
   "metadata": {},
   "outputs": [
    {
     "name": "stdout",
     "output_type": "stream",
     "text": [
      "0\n"
     ]
    }
   ],
   "source": [
    "class Stack:\n",
    "    def __init__(self):\n",
    "        self.stack_list = []\n",
    "\n",
    "\n",
    "stack_object = Stack()\n",
    "print(len(stack_object.stack_list))"
   ]
  },
  {
   "cell_type": "code",
   "execution_count": 4,
   "metadata": {},
   "outputs": [
    {
     "ename": "AttributeError",
     "evalue": "'Stack' object has no attribute '__stack_list'",
     "output_type": "error",
     "traceback": [
      "\u001b[1;31m---------------------------------------------------------------------------\u001b[0m",
      "\u001b[1;31mAttributeError\u001b[0m                            Traceback (most recent call last)",
      "\u001b[1;32m<ipython-input-4-2686e6162526>\u001b[0m in \u001b[0;36m<module>\u001b[1;34m\u001b[0m\n\u001b[0;32m      8\u001b[0m \u001b[1;33m\u001b[0m\u001b[0m\n\u001b[0;32m      9\u001b[0m \u001b[0mstack_object\u001b[0m \u001b[1;33m=\u001b[0m \u001b[0mStack\u001b[0m\u001b[1;33m(\u001b[0m\u001b[1;33m)\u001b[0m\u001b[1;33m\u001b[0m\u001b[1;33m\u001b[0m\u001b[0m\n\u001b[1;32m---> 10\u001b[1;33m \u001b[0mprint\u001b[0m\u001b[1;33m(\u001b[0m\u001b[0mlen\u001b[0m\u001b[1;33m(\u001b[0m\u001b[0mstack_object\u001b[0m\u001b[1;33m.\u001b[0m\u001b[0m__stack_list\u001b[0m\u001b[1;33m)\u001b[0m\u001b[1;33m)\u001b[0m\u001b[1;33m\u001b[0m\u001b[1;33m\u001b[0m\u001b[0m\n\u001b[0m",
      "\u001b[1;31mAttributeError\u001b[0m: 'Stack' object has no attribute '__stack_list'"
     ]
    }
   ],
   "source": [
    "# name starting with two underscores (__), it becomes private\n",
    "# This is how Python implements the encapsulation concept.\n",
    "# an AttributeError exception\n",
    "class Stack:\n",
    "    def __init__(self):\n",
    "        self.__stack_list = []\n",
    "\n",
    "\n",
    "stack_object = Stack()\n",
    "print(len(stack_object.__stack_list))"
   ]
  },
  {
   "cell_type": "code",
   "execution_count": 5,
   "metadata": {},
   "outputs": [
    {
     "name": "stdout",
     "output_type": "stream",
     "text": [
      "1\n",
      "2\n",
      "3\n"
     ]
    }
   ],
   "source": [
    "class Stack:\n",
    "    def __init__(self):\n",
    "        self.__stack_list = []\n",
    "\n",
    "\n",
    "    def push(self, val):\n",
    "        self.__stack_list.append(val)\n",
    "\n",
    "\n",
    "    def pop(self):\n",
    "        val = self.__stack_list[-1]\n",
    "        del self.__stack_list[-1]\n",
    "        return val\n",
    "\n",
    "\n",
    "stack_object = Stack()\n",
    "\n",
    "stack_object.push(3)\n",
    "stack_object.push(2)\n",
    "stack_object.push(1)\n",
    "\n",
    "print(stack_object.pop())\n",
    "print(stack_object.pop())\n",
    "print(stack_object.pop())"
   ]
  },
  {
   "cell_type": "code",
   "execution_count": 6,
   "metadata": {},
   "outputs": [
    {
     "name": "stdout",
     "output_type": "stream",
     "text": [
      "3\n"
     ]
    }
   ],
   "source": [
    "stack_object_1 = Stack()\n",
    "stack_object_2 = Stack()\n",
    "\n",
    "stack_object_1.push(3)\n",
    "stack_object_2.push(stack_object_1.pop())\n",
    "\n",
    "print(stack_object_2.pop())"
   ]
  },
  {
   "cell_type": "code",
   "execution_count": 7,
   "metadata": {},
   "outputs": [
    {
     "name": "stdout",
     "output_type": "stream",
     "text": [
      "0\n"
     ]
    }
   ],
   "source": [
    "little_stack = Stack()\n",
    "another_stack = Stack()\n",
    "funny_stack = Stack()\n",
    "\n",
    "little_stack.push(1)\n",
    "another_stack.push(little_stack.pop() + 1)\n",
    "funny_stack.push(another_stack.pop() - 2)\n",
    "\n",
    "print(funny_stack.pop())"
   ]
  },
  {
   "cell_type": "code",
   "execution_count": 5,
   "metadata": {},
   "outputs": [],
   "source": [
    "# Contrary to many other languages, Python forces you to explicitly invoke a superclass's constructor.\n",
    "\n",
    "class Stack:\n",
    "    def __init__(self):\n",
    "        self.__stack_list = []\n",
    "\n",
    "    def push(self, val):\n",
    "        self.__stack_list.append(val)\n",
    "\n",
    "    def pop(self):\n",
    "        val = self.__stack_list[-1]\n",
    "        del self.__stack_list[-1]\n",
    "        return val\n",
    "\n",
    "# define a new subclass pointing to the class which will be used as the superclass.\n",
    "class AddingStack(Stack):\n",
    "\n",
    "    # constructor\n",
    "    def __init__(self):\n",
    "        print(\"Hi AddingStack\")\n",
    "\n",
    "        Stack.__init__(self)\n",
    "\n",
    "        # __ private\n",
    "        self.__sum = 0\n",
    "\n",
    "    def get_sum(self):\n",
    "        return self.__sum\n",
    "\n",
    "    def push(self, val):\n",
    "        self.__sum += val\n",
    "        Stack.push(self, val)\n",
    "\n",
    "    def pop(self):\n",
    "        val = Stack.pop(self)\n",
    "        self.__sum -= val\n",
    "        return val"
   ]
  },
  {
   "cell_type": "code",
   "execution_count": 6,
   "metadata": {},
   "outputs": [
    {
     "name": "stdout",
     "output_type": "stream",
     "text": [
      "Hi AddingStack\n",
      "get_sum :  10\n",
      "4\n",
      "3\n",
      "2\n",
      "1\n",
      "0\n"
     ]
    }
   ],
   "source": [
    "stack_object = AddingStack()\n",
    "\n",
    "for i in range(5):\n",
    "    stack_object.push(i)\n",
    "\n",
    "print(\"get_sum : \",stack_object.get_sum())\n",
    "\n",
    "for i in range(5):\n",
    "    print(stack_object.pop())"
   ]
  },
  {
   "cell_type": "code",
   "execution_count": 7,
   "metadata": {},
   "outputs": [
    {
     "name": "stdout",
     "output_type": "stream",
     "text": [
      "{'first': 1}\n",
      "{'first': 2, 'second': 3}\n",
      "{'first': 4, 'third': 5}\n"
     ]
    }
   ],
   "source": [
    "# Instance variables\n",
    "\n",
    "class ExampleClass:\n",
    "    def __init__(self, val = 1):\n",
    "        self.first = val\n",
    "\n",
    "    def set_second(self, val):\n",
    "        self.second = val\n",
    "\n",
    "\n",
    "example_object_1 = ExampleClass()\n",
    "example_object_2 = ExampleClass(2)\n",
    "\n",
    "example_object_2.set_second(3)\n",
    "\n",
    "example_object_3 = ExampleClass(4)\n",
    "example_object_3.third = 5\n",
    "\n",
    "print(example_object_1.__dict__)\n",
    "print(example_object_2.__dict__)\n",
    "print(example_object_3.__dict__)\n"
   ]
  },
  {
   "cell_type": "code",
   "execution_count": 10,
   "metadata": {},
   "outputs": [
    {
     "name": "stdout",
     "output_type": "stream",
     "text": [
      "{'_ExampleClass__first': 1}\n",
      "{'_ExampleClass__first': 2, '_ExampleClass__second': 3}\n",
      "{'_ExampleClass__first': 4, '__third': 5}\n",
      "1\n"
     ]
    }
   ],
   "source": [
    "# it mangles the operation\n",
    "# mangled name constructed as _ClassName__PrivatePropertyName\n",
    "\n",
    "class ExampleClass:\n",
    "    def __init__(self, val = 1):\n",
    "        self.__first = val\n",
    "\n",
    "    def set_second(self, val = 2):\n",
    "        self.__second = val\n",
    "\n",
    "\n",
    "example_object_1 = ExampleClass()\n",
    "example_object_2 = ExampleClass(2)\n",
    "\n",
    "example_object_2.set_second(3)\n",
    "\n",
    "example_object_3 = ExampleClass(4)\n",
    "example_object_3.__third = 5\n",
    "\n",
    "print(example_object_1.__dict__)\n",
    "print(example_object_2.__dict__)\n",
    "print(example_object_3.__dict__)\n",
    "\n",
    "print(example_object_1._ExampleClass__first)"
   ]
  },
  {
   "cell_type": "code",
   "execution_count": 1,
   "metadata": {},
   "outputs": [
    {
     "name": "stdout",
     "output_type": "stream",
     "text": [
      "{'_ExampleClass__first': 1} 3\n",
      "{'_ExampleClass__first': 2} 3\n",
      "{'_ExampleClass__first': 4} 3\n"
     ]
    }
   ],
   "source": [
    "# Class variables\n",
    "\n",
    "class ExampleClass:\n",
    "    counter = 0\n",
    "    def __init__(self, val = 1):\n",
    "        self.__first = val\n",
    "        ExampleClass.counter += 1\n",
    "\n",
    "\n",
    "example_object_1 = ExampleClass()\n",
    "example_object_2 = ExampleClass(2)\n",
    "example_object_3 = ExampleClass(4)\n",
    "\n",
    "print(example_object_1.__dict__, example_object_1.counter)\n",
    "print(example_object_2.__dict__, example_object_2.counter)\n",
    "print(example_object_3.__dict__, example_object_3.counter)"
   ]
  },
  {
   "cell_type": "code",
   "execution_count": 2,
   "metadata": {},
   "outputs": [
    {
     "name": "stdout",
     "output_type": "stream",
     "text": [
      "{'_ExampleClass__first': 1} 3\n",
      "{'_ExampleClass__first': 2} 3\n",
      "{'_ExampleClass__first': 4} 3\n"
     ]
    }
   ],
   "source": [
    "# Mangling a class variable's name\n",
    "\n",
    "class ExampleClass:\n",
    "    __counter = 0\n",
    "    def __init__(self, val = 1):\n",
    "        self.__first = val\n",
    "        ExampleClass.__counter += 1\n",
    "\n",
    "\n",
    "example_object_1 = ExampleClass()\n",
    "example_object_2 = ExampleClass(2)\n",
    "example_object_3 = ExampleClass(4)\n",
    "\n",
    "print(example_object_1.__dict__, example_object_1._ExampleClass__counter)\n",
    "print(example_object_2.__dict__, example_object_2._ExampleClass__counter)\n",
    "print(example_object_3.__dict__, example_object_3._ExampleClass__counter)"
   ]
  },
  {
   "cell_type": "code",
   "execution_count": 4,
   "metadata": {},
   "outputs": [
    {
     "name": "stdout",
     "output_type": "stream",
     "text": [
      "{'__module__': '__main__', 'varia': 1, '__init__': <function ExampleClass.__init__ at 0x00000263CB264040>, '__dict__': <attribute '__dict__' of 'ExampleClass' objects>, '__weakref__': <attribute '__weakref__' of 'ExampleClass' objects>, '__doc__': None}\n",
      "{'__module__': '__main__', 'varia': 2, '__init__': <function ExampleClass.__init__ at 0x00000263CB264040>, '__dict__': <attribute '__dict__' of 'ExampleClass' objects>, '__weakref__': <attribute '__weakref__' of 'ExampleClass' objects>, '__doc__': None}\n",
      "{}\n"
     ]
    }
   ],
   "source": [
    "class ExampleClass:\n",
    "    varia = 1\n",
    "    def __init__(self, val):\n",
    "        ExampleClass.varia = val\n",
    "\n",
    "\n",
    "print(ExampleClass.__dict__)\n",
    "example_object = ExampleClass(2)\n",
    "\n",
    "print(ExampleClass.__dict__)\n",
    "\n",
    "# object's __dict__ is empty - the object has no instance variables.\n",
    "print(example_object.__dict__)"
   ]
  },
  {
   "cell_type": "code",
   "execution_count": 5,
   "metadata": {},
   "outputs": [
    {
     "name": "stdout",
     "output_type": "stream",
     "text": [
      "1\n"
     ]
    },
    {
     "ename": "AttributeError",
     "evalue": "'ExampleClass' object has no attribute 'b'",
     "output_type": "error",
     "traceback": [
      "\u001b[1;31m---------------------------------------------------------------------------\u001b[0m",
      "\u001b[1;31mAttributeError\u001b[0m                            Traceback (most recent call last)",
      "\u001b[1;32m<ipython-input-5-913af34535b0>\u001b[0m in \u001b[0;36m<module>\u001b[1;34m\u001b[0m\n\u001b[0;32m     13\u001b[0m \u001b[1;33m\u001b[0m\u001b[0m\n\u001b[0;32m     14\u001b[0m \u001b[0mprint\u001b[0m\u001b[1;33m(\u001b[0m\u001b[0mexample_object\u001b[0m\u001b[1;33m.\u001b[0m\u001b[0ma\u001b[0m\u001b[1;33m)\u001b[0m\u001b[1;33m\u001b[0m\u001b[1;33m\u001b[0m\u001b[0m\n\u001b[1;32m---> 15\u001b[1;33m \u001b[0mprint\u001b[0m\u001b[1;33m(\u001b[0m\u001b[0mexample_object\u001b[0m\u001b[1;33m.\u001b[0m\u001b[0mb\u001b[0m\u001b[1;33m)\u001b[0m\u001b[1;33m\u001b[0m\u001b[1;33m\u001b[0m\u001b[0m\n\u001b[0m",
      "\u001b[1;31mAttributeError\u001b[0m: 'ExampleClass' object has no attribute 'b'"
     ]
    }
   ],
   "source": [
    "# Checking an attribute's existence\n",
    "# AttributeError: 'ExampleClass' object has no attribute 'b'\n",
    "\n",
    "class ExampleClass:\n",
    "    def __init__(self, val):\n",
    "        if val % 2 != 0:\n",
    "            self.a = 1\n",
    "        else:\n",
    "            self.b = 1\n",
    "\n",
    "\n",
    "example_object = ExampleClass(1)\n",
    "\n",
    "print(example_object.a)\n",
    "print(example_object.b)\n"
   ]
  },
  {
   "cell_type": "code",
   "execution_count": 8,
   "metadata": {},
   "outputs": [
    {
     "name": "stdout",
     "output_type": "stream",
     "text": [
      "1\n"
     ]
    }
   ],
   "source": [
    "class ExampleClass:\n",
    "    def __init__(self, val):\n",
    "        if val % 2 != 0:\n",
    "            self.a = 1\n",
    "        else:\n",
    "            self.b = 1\n",
    "\n",
    "\n",
    "example_object = ExampleClass(1)\n",
    "print(example_object.a)\n",
    "\n",
    "try:\n",
    "    print(example_object.b)\n",
    "except AttributeError:\n",
    "    pass\n"
   ]
  },
  {
   "cell_type": "code",
   "execution_count": 6,
   "metadata": {},
   "outputs": [
    {
     "name": "stdout",
     "output_type": "stream",
     "text": [
      "1\n"
     ]
    }
   ],
   "source": [
    "# hasattr\n",
    "\n",
    "example_object = ExampleClass(1)\n",
    "print(example_object.a)\n",
    "\n",
    "if hasattr(example_object, 'b'):\n",
    "    print(example_object.b)"
   ]
  },
  {
   "cell_type": "code",
   "execution_count": 9,
   "metadata": {},
   "outputs": [
    {
     "name": "stdout",
     "output_type": "stream",
     "text": [
      "True\n",
      "True\n",
      "False\n",
      "True\n"
     ]
    }
   ],
   "source": [
    "class ExampleClass:\n",
    "    a = 1\n",
    "    def __init__(self):\n",
    "        self.b = 2\n",
    "\n",
    "\n",
    "example_object = ExampleClass()\n",
    "\n",
    "print(hasattr(example_object, 'b'))\n",
    "print(hasattr(example_object, 'a'))\n",
    "print(hasattr(ExampleClass, 'b'))\n",
    "print(hasattr(ExampleClass, 'a'))"
   ]
  },
  {
   "cell_type": "code",
   "execution_count": 10,
   "metadata": {},
   "outputs": [
    {
     "name": "stdout",
     "output_type": "stream",
     "text": [
      "True\n",
      "False\n"
     ]
    }
   ],
   "source": [
    "class ExampleClass:\n",
    "    attr = 1\n",
    "\n",
    "\n",
    "print(hasattr(ExampleClass, 'attr'))\n",
    "print(hasattr(ExampleClass, 'prop'))"
   ]
  },
  {
   "cell_type": "code",
   "execution_count": 11,
   "metadata": {},
   "outputs": [
    {
     "name": "stdout",
     "output_type": "stream",
     "text": [
      "{'alpha': 1, '_Sample__delta': 3, 'beta': 2}\n"
     ]
    }
   ],
   "source": [
    "class Sample:\n",
    "    gamma = 0 # Class variable.\n",
    "    def __init__(self):\n",
    "        self.alpha = 1 # Instance variable.\n",
    "        self.__delta = 3 # Private instance variable.\n",
    "\n",
    "\n",
    "obj = Sample()\n",
    "obj.beta = 2  # Another instance variable (existing only inside the \"obj\" instance.)\n",
    "print(obj.__dict__)"
   ]
  },
  {
   "cell_type": "code",
   "execution_count": null,
   "metadata": {},
   "outputs": [],
   "source": []
  }
 ],
 "metadata": {
  "kernelspec": {
   "display_name": "Python 3",
   "language": "python",
   "name": "python3"
  },
  "language_info": {
   "codemirror_mode": {
    "name": "ipython",
    "version": 3
   },
   "file_extension": ".py",
   "mimetype": "text/x-python",
   "name": "python",
   "nbconvert_exporter": "python",
   "pygments_lexer": "ipython3",
   "version": "3.8.5"
  }
 },
 "nbformat": 4,
 "nbformat_minor": 4
}
