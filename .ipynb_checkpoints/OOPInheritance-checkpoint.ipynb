{
 "cells": [
  {
   "cell_type": "code",
   "execution_count": 1,
   "metadata": {},
   "outputs": [
    {
     "name": "stdout",
     "output_type": "stream",
     "text": [
      "<__main__.Star object at 0x0000013CEA21C790>\n"
     ]
    }
   ],
   "source": [
    "class Star:\n",
    "    def __init__(self, name, galaxy):\n",
    "        self.name = name\n",
    "        self.galaxy = galaxy\n",
    "\n",
    "\n",
    "sun = Star(\"Sun\", \"Milky Way\")\n",
    "print(sun)"
   ]
  },
  {
   "cell_type": "code",
   "execution_count": 2,
   "metadata": {},
   "outputs": [
    {
     "name": "stdout",
     "output_type": "stream",
     "text": [
      "Sun in Milky Way\n"
     ]
    }
   ],
   "source": [
    "class Star:\n",
    "    def __init__(self, name, galaxy):\n",
    "        self.name = name\n",
    "        self.galaxy = galaxy\n",
    "\n",
    "    def __str__(self):\n",
    "        return self.name + ' in ' + self.galaxy\n",
    "\n",
    "\n",
    "sun = Star(\"Sun\", \"Milky Way\")\n",
    "print(sun)"
   ]
  },
  {
   "cell_type": "code",
   "execution_count": 14,
   "metadata": {},
   "outputs": [
    {
     "name": "stdout",
     "output_type": "stream",
     "text": [
      "True\tFalse\tFalse\t\n",
      "True\tTrue\tFalse\t\n",
      "True\tTrue\tTrue\t\n"
     ]
    }
   ],
   "source": [
    "# issubclass\n",
    "\n",
    "class Vehicle:\n",
    "    pass\n",
    "\n",
    "\n",
    "class LandVehicle(Vehicle):\n",
    "    pass\n",
    "\n",
    "\n",
    "class TrackedVehicle(LandVehicle):\n",
    "    pass\n",
    "\n",
    "for cls1 in [Vehicle, LandVehicle, TrackedVehicle]:\n",
    "    for cls2 in [Vehicle, LandVehicle, TrackedVehicle]:\n",
    "        print(issubclass(cls1, cls2), end=\"\\t\")\n",
    "    print()"
   ]
  },
  {
   "cell_type": "code",
   "execution_count": 15,
   "metadata": {},
   "outputs": [
    {
     "name": "stdout",
     "output_type": "stream",
     "text": [
      "True\tFalse\tFalse\t\n",
      "True\tTrue\tFalse\t\n",
      "True\tTrue\tTrue\t\n"
     ]
    }
   ],
   "source": [
    "# isinstance()\n",
    "\n",
    "class Vehicle:\n",
    "    pass\n",
    "\n",
    "\n",
    "class LandVehicle(Vehicle):\n",
    "    pass\n",
    "\n",
    "\n",
    "class TrackedVehicle(LandVehicle):\n",
    "    pass\n",
    "\n",
    "\n",
    "my_vehicle = Vehicle()\n",
    "my_land_vehicle = LandVehicle()\n",
    "my_tracked_vehicle = TrackedVehicle()\n",
    "\n",
    "for obj in [my_vehicle, my_land_vehicle, my_tracked_vehicle]:\n",
    "    for cls in [Vehicle, LandVehicle, TrackedVehicle]:\n",
    "        print(isinstance(obj, cls), end=\"\\t\")\n",
    "    print()\n"
   ]
  },
  {
   "cell_type": "code",
   "execution_count": 16,
   "metadata": {},
   "outputs": [
    {
     "name": "stdout",
     "output_type": "stream",
     "text": [
      "False\n",
      "False\n",
      "True\n",
      "1 2 1\n",
      "True False\n"
     ]
    }
   ],
   "source": [
    "# the is operator\n",
    "\n",
    "class SampleClass:\n",
    "    def __init__(self, val):\n",
    "        self.val = val\n",
    "\n",
    "\n",
    "object_1 = SampleClass(0)\n",
    "object_2 = SampleClass(2)\n",
    "object_3 = object_1\n",
    "object_3.val += 1\n",
    "\n",
    "print(object_1 is object_2)\n",
    "print(object_2 is object_3)\n",
    "print(object_3 is object_1)\n",
    "print(object_1.val, object_2.val, object_3.val)\n",
    "\n",
    "string_1 = \"Mary had a little \"\n",
    "string_2 = \"Mary had a little lamb\"\n",
    "string_1 += \"lamb\"\n",
    "\n",
    "print(string_1 == string_2, string_1 is string_2)"
   ]
  },
  {
   "cell_type": "code",
   "execution_count": 17,
   "metadata": {},
   "outputs": [
    {
     "name": "stdout",
     "output_type": "stream",
     "text": [
      "My name is Andy.\n"
     ]
    }
   ],
   "source": [
    "#  __str__() method has been inherited by the Sub class\n",
    "class Super:\n",
    "    def __init__(self, name):\n",
    "        self.name = name\n",
    "\n",
    "    def __str__(self):\n",
    "        return \"My name is \" + self.name + \".\"\n",
    "\n",
    "\n",
    "class Sub(Super):\n",
    "    def __init__(self, name):\n",
    "        Super.__init__(self, name)\n",
    "\n",
    "\n",
    "obj = Sub(\"Andy\")\n",
    "\n",
    "print(obj)"
   ]
  },
  {
   "cell_type": "code",
   "execution_count": 18,
   "metadata": {},
   "outputs": [
    {
     "name": "stdout",
     "output_type": "stream",
     "text": [
      "My name is Andy.\n"
     ]
    }
   ],
   "source": [
    "class Super:\n",
    "    def __init__(self, name):\n",
    "        self.name = name\n",
    "\n",
    "    def __str__(self):\n",
    "        return \"My name is \" + self.name + \".\"\n",
    "\n",
    "\n",
    "class Sub(Super):\n",
    "    def __init__(self, name):\n",
    "        super().__init__(name)\n",
    "\n",
    "\n",
    "obj = Sub(\"Andy\")\n",
    "\n",
    "print(obj)"
   ]
  },
  {
   "cell_type": "code",
   "execution_count": 19,
   "metadata": {},
   "outputs": [
    {
     "name": "stdout",
     "output_type": "stream",
     "text": [
      "2\n",
      "1\n"
     ]
    }
   ],
   "source": [
    "# Testing properties: class variables.\n",
    "class Super:\n",
    "    supVar = 1\n",
    "\n",
    "\n",
    "class Sub(Super):\n",
    "    subVar = 2\n",
    "\n",
    "\n",
    "obj = Sub()\n",
    "\n",
    "print(obj.subVar)\n",
    "print(obj.supVar)"
   ]
  },
  {
   "cell_type": "code",
   "execution_count": 20,
   "metadata": {},
   "outputs": [
    {
     "name": "stdout",
     "output_type": "stream",
     "text": [
      "12\n",
      "11\n"
     ]
    }
   ],
   "source": [
    "# Testing properties: instance variables.\n",
    "class Super:\n",
    "    def __init__(self):\n",
    "        self.supVar = 11\n",
    "\n",
    "\n",
    "class Sub(Super):\n",
    "    def __init__(self):\n",
    "        super().__init__()\n",
    "        self.subVar = 12\n",
    "\n",
    "\n",
    "obj = Sub()\n",
    "\n",
    "print(obj.subVar)\n",
    "print(obj.supVar)"
   ]
  },
  {
   "cell_type": "code",
   "execution_count": 21,
   "metadata": {},
   "outputs": [
    {
     "name": "stdout",
     "output_type": "stream",
     "text": [
      "100 101 102\n",
      "200 201 202\n",
      "300 301 302\n"
     ]
    }
   ],
   "source": [
    "class Level1:\n",
    "    variable_1 = 100\n",
    "    def __init__(self):\n",
    "        self.var_1 = 101\n",
    "\n",
    "    def fun_1(self):\n",
    "        return 102\n",
    "\n",
    "\n",
    "class Level2(Level1):\n",
    "    variable_2 = 200\n",
    "    def __init__(self):\n",
    "        super().__init__()\n",
    "        self.var_2 = 201\n",
    "    \n",
    "    def fun_2(self):\n",
    "        return 202\n",
    "\n",
    "\n",
    "class Level3(Level2):\n",
    "    variable_3 = 300\n",
    "    def __init__(self):\n",
    "        super().__init__()\n",
    "        self.var_3 = 301\n",
    "\n",
    "    def fun_3(self):\n",
    "        return 302\n",
    "\n",
    "\n",
    "obj = Level3()\n",
    "\n",
    "print(obj.variable_1, obj.var_1, obj.fun_1())\n",
    "print(obj.variable_2, obj.var_2, obj.fun_2())\n",
    "print(obj.variable_3, obj.var_3, obj.fun_3())"
   ]
  },
  {
   "cell_type": "code",
   "execution_count": 22,
   "metadata": {},
   "outputs": [
    {
     "name": "stdout",
     "output_type": "stream",
     "text": [
      "10 11\n",
      "20 21\n"
     ]
    }
   ],
   "source": [
    "# Multiple inheritance occurs when a class has more than one superclass.\n",
    "\n",
    "class SuperA:\n",
    "    var_a = 10\n",
    "    def fun_a(self):\n",
    "        return 11\n",
    "\n",
    "\n",
    "class SuperB:\n",
    "    var_b = 20\n",
    "    def fun_b(self):\n",
    "        return 21\n",
    "\n",
    "\n",
    "class Sub(SuperA, SuperB):\n",
    "    pass\n",
    "\n",
    "\n",
    "obj = Sub()\n",
    "\n",
    "print(obj.var_a, obj.fun_a())\n",
    "print(obj.var_b, obj.fun_b())"
   ]
  },
  {
   "cell_type": "code",
   "execution_count": 23,
   "metadata": {},
   "outputs": [
    {
     "name": "stdout",
     "output_type": "stream",
     "text": [
      "200 201\n"
     ]
    }
   ],
   "source": [
    "# The entity defined later (in the inheritance sense) overrides the same entity defined earlier.\n",
    "\n",
    "class Level1:\n",
    "    var = 100\n",
    "    def fun(self):\n",
    "        return 101\n",
    "\n",
    "\n",
    "class Level2(Level1):\n",
    "    var = 200\n",
    "    def fun(self):\n",
    "        return 201\n",
    "\n",
    "\n",
    "class Level3(Level2):\n",
    "    pass\n",
    "\n",
    "\n",
    "obj = Level3()\n",
    "\n",
    "print(obj.var, obj.fun())"
   ]
  },
  {
   "cell_type": "code",
   "execution_count": 26,
   "metadata": {},
   "outputs": [
    {
     "name": "stdout",
     "output_type": "stream",
     "text": [
      "L LL RR Left\n",
      "R LL RR Right\n"
     ]
    }
   ],
   "source": [
    "# if there is more than one class on a particular inheritance path, Python scans them from left to right.\n",
    "\n",
    "class Left:\n",
    "    var = \"L\"\n",
    "    var_left = \"LL\"\n",
    "    def fun(self):\n",
    "        return \"Left\"\n",
    "\n",
    "\n",
    "class Right:\n",
    "    var = \"R\"\n",
    "    var_right = \"RR\"\n",
    "    def fun(self):\n",
    "        return \"Right\"\n",
    "\n",
    "\n",
    "class Sub(Left, Right):\n",
    "    pass\n",
    "\n",
    "class Sub2(Right , Left):\n",
    "    pass\n",
    "\n",
    "obj = Sub()\n",
    "\n",
    "print(obj.var, obj.var_left, obj.var_right, obj.fun())\n",
    "\n",
    "obj = Sub2()\n",
    "\n",
    "print(obj.var, obj.var_left, obj.var_right, obj.fun())"
   ]
  },
  {
   "cell_type": "code",
   "execution_count": 27,
   "metadata": {},
   "outputs": [
    {
     "name": "stdout",
     "output_type": "stream",
     "text": [
      "do_it from One\n",
      "do_it from Two\n"
     ]
    }
   ],
   "source": [
    "# How to build a hierarchy of classes\n",
    "# the subclass is able to modify its superclass behavior (just like in the example) is called polymorphism.\n",
    "\n",
    "class One:\n",
    "    def do_it(self):\n",
    "        print(\"do_it from One\")\n",
    "\n",
    "    def doanything(self):\n",
    "        self.do_it()\n",
    "\n",
    "\n",
    "class Two(One):\n",
    "    def do_it(self):\n",
    "        print(\"do_it from Two\")\n",
    "\n",
    "\n",
    "one = One()\n",
    "two = Two()\n",
    "\n",
    "one.doanything()\n",
    "two.doanything()"
   ]
  },
  {
   "cell_type": "code",
   "execution_count": null,
   "metadata": {},
   "outputs": [],
   "source": [
    "import time\n",
    "\n",
    "class TrackedVehicle:\n",
    "    def control_track(left, stop):\n",
    "        pass\n",
    "\n",
    "    def turn(left):\n",
    "        control_track(left, True)\n",
    "        time.sleep(0.25)\n",
    "        control_track(left, False)\n",
    "\n",
    "\n",
    "class WheeledVehicle:\n",
    "    def turn_front_wheels(left, on):\n",
    "        pass\n",
    "\n",
    "    def turn(left):\n",
    "        turn_front_wheels(left, True)\n",
    "        time.sleep(0.25)\n",
    "        turn_front_wheels(left, False)"
   ]
  },
  {
   "cell_type": "code",
   "execution_count": null,
   "metadata": {},
   "outputs": [],
   "source": [
    "import time\n",
    "\n",
    "class Vehicle:\n",
    "    def change_direction(left, on):\n",
    "        pass\n",
    "\n",
    "    def turn(left):\n",
    "        change_direction(left, True)\n",
    "        time.sleep(0.25)\n",
    "        change_direction(left, False)\n",
    "\n",
    "\n",
    "class TrackedVehicle(Vehicle):\n",
    "    def control_track(left, stop):\n",
    "        pass\n",
    "\n",
    "    def change_direction(left, on):\n",
    "        control_track(left, on)\n",
    "\n",
    "\n",
    "class WheeledVehicle(Vehicle):\n",
    "    def turn_front_wheels(left, on):\n",
    "        pass\n",
    "\n",
    "    def change_direction(left, on):\n",
    "        turn_front_wheels(left, on)"
   ]
  },
  {
   "cell_type": "markdown",
   "metadata": {},
   "source": [
    "    inheritance extends a class's capabilities by adding new components and modifying existing ones; in other words, the complete recipe is contained inside the class itself and all its ancestors; the object takes all the class's belongings and makes use of them;\n",
    "\n",
    "    composition projects a class as a container able to store and use other objects (derived from other classes) where each of the objects implements a part of a desired class's behavior."
   ]
  },
  {
   "cell_type": "code",
   "execution_count": 28,
   "metadata": {},
   "outputs": [
    {
     "name": "stdout",
     "output_type": "stream",
     "text": [
      "wheels:  True True\n",
      "wheels:  True False\n",
      "tracks:  False True\n",
      "tracks:  False False\n"
     ]
    }
   ],
   "source": [
    "# Composition is the process of composing an object using other different objects.\n",
    "\n",
    "import time\n",
    "\n",
    "class Tracks:\n",
    "    def change_direction(self, left, on):\n",
    "        print(\"tracks: \", left, on)\n",
    "\n",
    "\n",
    "class Wheels:\n",
    "    def change_direction(self, left, on):\n",
    "        print(\"wheels: \", left, on)\n",
    "\n",
    "\n",
    "class Vehicle:\n",
    "    def __init__(self, controller):\n",
    "        self.controller = controller\n",
    "\n",
    "    def turn(self, left):\n",
    "        self.controller.change_direction(left, True)\n",
    "        time.sleep(0.25)\n",
    "        self.controller.change_direction(left, False)\n",
    "\n",
    "\n",
    "wheeled = Vehicle(Wheels())\n",
    "tracked = Vehicle(Tracks())\n",
    "\n",
    "wheeled.turn(True)\n",
    "tracked.turn(False)"
   ]
  },
  {
   "cell_type": "code",
   "execution_count": 29,
   "metadata": {},
   "outputs": [
    {
     "name": "stdout",
     "output_type": "stream",
     "text": [
      "Collie says: Woof! Don't run away, Little Lamb!\n",
      "Dobermann says: Woof! Stay where you are, Mister Intruder!\n",
      "True False\n",
      "False True\n",
      "True False\n",
      "2\n"
     ]
    }
   ],
   "source": [
    "class Dog:\n",
    "    kennel = 0\n",
    "    def __init__(self, breed):\n",
    "        self.breed = breed\n",
    "        Dog.kennel += 1\n",
    "    def __str__(self):\n",
    "        return self.breed + \" says: Woof!\"\n",
    "\n",
    "\n",
    "class SheepDog(Dog):\n",
    "    def __str__(self):\n",
    "        return super().__str__() + \" Don't run away, Little Lamb!\"\n",
    "\n",
    "\n",
    "class GuardDog(Dog):\n",
    "    def __str__(self):\n",
    "        return super().__str__() + \" Stay where you are, Mister Intruder!\"\n",
    "    \n",
    "class LowlandDog(SheepDog):\n",
    "    def __str__(self):\n",
    "        return Dog.__str__(self) + \" I don't like mountains!\"\n",
    "\n",
    "\n",
    "rocky = SheepDog(\"Collie\")\n",
    "luna = GuardDog(\"Dobermann\")\n",
    "\n",
    "print(rocky)\n",
    "print(luna)\n",
    "\n",
    "print(issubclass(SheepDog, Dog), issubclass(SheepDog, GuardDog))\n",
    "print(isinstance(rocky, GuardDog), isinstance(luna, GuardDog))\n",
    "\n",
    "print(luna is luna, rocky is luna)\n",
    "print(rocky.kennel)\n"
   ]
  },
  {
   "cell_type": "code",
   "execution_count": null,
   "metadata": {},
   "outputs": [],
   "source": []
  }
 ],
 "metadata": {
  "kernelspec": {
   "display_name": "Python 3",
   "language": "python",
   "name": "python3"
  },
  "language_info": {
   "codemirror_mode": {
    "name": "ipython",
    "version": 3
   },
   "file_extension": ".py",
   "mimetype": "text/x-python",
   "name": "python",
   "nbconvert_exporter": "python",
   "pygments_lexer": "ipython3",
   "version": "3.8.5"
  }
 },
 "nbformat": 4,
 "nbformat_minor": 4
}
