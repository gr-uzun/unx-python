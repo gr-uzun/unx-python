{
 "cells": [
  {
   "cell_type": "code",
   "execution_count": 1,
   "id": "inclusive-battlefield",
   "metadata": {},
   "outputs": [
    {
     "name": "stdout",
     "output_type": "stream",
     "text": [
      "cat -> chat\n",
      "lion is not in dictionary\n",
      "horse -> cheval\n"
     ]
    }
   ],
   "source": [
    "dictionary = {\"cat\": \"chat\", \"dog\": \"chien\", \"horse\": \"cheval\"}\n",
    "\n",
    "words = ['cat', 'lion', 'horse']\n",
    "\n",
    "for word in words:\n",
    "    \n",
    "    if word in dictionary:\n",
    "        print(word, \"->\", dictionary[word])\n",
    "    else:\n",
    "        print(word, \"is not in dictionary\")\n",
    "\n"
   ]
  },
  {
   "cell_type": "code",
   "execution_count": 3,
   "id": "spare-concord",
   "metadata": {},
   "outputs": [
    {
     "name": "stdout",
     "output_type": "stream",
     "text": [
      "dictionary : {'cat': 'chat', 'dog': 'chien', 'horse': 'cheval'}\n",
      "phone_numbers : {'boss': 5551234567, 'Suzy': 22657854310}\n",
      "empty_dictionary : {}\n"
     ]
    }
   ],
   "source": [
    "dictionary = {\"cat\": \"chat\", \"dog\": \"chien\", \"horse\": \"cheval\"}\n",
    "phone_numbers = {'boss' : 5551234567, 'Suzy' : 22657854310}\n",
    "empty_dictionary = {}\n",
    "\n",
    "# Print the values here.\n",
    "print(\"dictionary :\",dictionary)\n",
    "print(\"phone_numbers :\",phone_numbers)\n",
    "print(\"empty_dictionary :\",empty_dictionary)\n"
   ]
  },
  {
   "cell_type": "code",
   "execution_count": 8,
   "id": "elder-spiritual",
   "metadata": {},
   "outputs": [
    {
     "name": "stdout",
     "output_type": "stream",
     "text": [
      "cat -> chat\n",
      "dog -> chien\n",
      "horse -> cheval\n",
      "aaa -> dynozor\n"
     ]
    }
   ],
   "source": [
    "dictionary = {\"cat\": \"chat\", \"dog\": \"chien\", \"horse\": \"cheval\",\"aaa\":\"dynozor\"}\n",
    "\n",
    "for key in dictionary.keys():\n",
    "    print(key, \"->\", dictionary[key])"
   ]
  },
  {
   "cell_type": "code",
   "execution_count": 9,
   "id": "stable-spain",
   "metadata": {},
   "outputs": [
    {
     "name": "stdout",
     "output_type": "stream",
     "text": [
      "aaa -> dynozor\n",
      "cat -> chat\n",
      "dog -> chien\n",
      "horse -> cheval\n"
     ]
    }
   ],
   "source": [
    "for key in sorted(dictionary.keys()):\n",
    "    print(key, \"->\", dictionary[key])"
   ]
  },
  {
   "cell_type": "code",
   "execution_count": 23,
   "id": "competent-hebrew",
   "metadata": {},
   "outputs": [
    {
     "name": "stdout",
     "output_type": "stream",
     "text": [
      "cat -> minou\n",
      "horse -> cheval\n",
      "aaa -> dynozor\n",
      "swan -> cygne\n"
     ]
    }
   ],
   "source": [
    "for english, french in dictionary.items():\n",
    "    print(english, \"->\", french)"
   ]
  },
  {
   "cell_type": "code",
   "execution_count": 25,
   "id": "approved-guatemala",
   "metadata": {},
   "outputs": [
    {
     "name": "stdout",
     "output_type": "stream",
     "text": [
      "item : cat\n",
      "item : horse\n",
      "item : aaa\n",
      "item : swan\n"
     ]
    }
   ],
   "source": [
    "for item in dictionary:\n",
    "    print(\"item :\", item)"
   ]
  },
  {
   "cell_type": "code",
   "execution_count": 11,
   "id": "quick-castle",
   "metadata": {},
   "outputs": [
    {
     "name": "stdout",
     "output_type": "stream",
     "text": [
      "chat\n",
      "chien\n",
      "cheval\n",
      "dynozor\n"
     ]
    }
   ],
   "source": [
    "for french in dictionary.values():\n",
    "    print(french)"
   ]
  },
  {
   "cell_type": "markdown",
   "id": "different-thirty",
   "metadata": {},
   "source": [
    "# How to use a dictionary: modifying and adding values"
   ]
  },
  {
   "cell_type": "code",
   "execution_count": 14,
   "id": "entertaining-stevens",
   "metadata": {},
   "outputs": [
    {
     "name": "stdout",
     "output_type": "stream",
     "text": [
      "{'cat': 'minou', 'dog': 'chien', 'horse': 'cheval', 'aaa': 'dynozor', 'swan': 'cygne'}\n"
     ]
    }
   ],
   "source": [
    "# update\n",
    "dictionary['cat'] = 'minou'\n",
    "print(dictionary)"
   ]
  },
  {
   "cell_type": "code",
   "execution_count": 15,
   "id": "behind-conclusion",
   "metadata": {},
   "outputs": [
    {
     "name": "stdout",
     "output_type": "stream",
     "text": [
      "{'cat': 'minou', 'dog': 'chien', 'horse': 'cheval', 'aaa': 'dynozor', 'swan': 'cygne'}\n"
     ]
    }
   ],
   "source": [
    "# add\n",
    "dictionary['swan'] = 'cygne'\n",
    "print(dictionary)"
   ]
  },
  {
   "cell_type": "code",
   "execution_count": 16,
   "id": "rough-broadcast",
   "metadata": {},
   "outputs": [
    {
     "name": "stdout",
     "output_type": "stream",
     "text": [
      "{'cat': 'minou', 'dog': 'chien', 'horse': 'cheval', 'aaa': 'dynozor', 'swan': 'cygne', 'duck': 'canard'}\n"
     ]
    }
   ],
   "source": [
    "# add by update() method\n",
    "dictionary.update({\"duck\": \"canard\"})\n",
    "print(dictionary)"
   ]
  },
  {
   "cell_type": "code",
   "execution_count": 17,
   "id": "verbal-crisis",
   "metadata": {},
   "outputs": [
    {
     "name": "stdout",
     "output_type": "stream",
     "text": [
      "{'cat': 'minou', 'horse': 'cheval', 'aaa': 'dynozor', 'swan': 'cygne', 'duck': 'canard'}\n"
     ]
    }
   ],
   "source": [
    "# delete\n",
    "del dictionary['dog']\n",
    "print(dictionary)"
   ]
  },
  {
   "cell_type": "code",
   "execution_count": 18,
   "id": "pediatric-hormone",
   "metadata": {},
   "outputs": [
    {
     "name": "stdout",
     "output_type": "stream",
     "text": [
      "{'cat': 'minou', 'horse': 'cheval', 'aaa': 'dynozor', 'swan': 'cygne'}\n"
     ]
    }
   ],
   "source": [
    "# remove the last item in a dictionary\n",
    "dictionary.popitem()\n",
    "print(dictionary)    # outputs: {'cat': 'chat', 'dog': 'chien'}"
   ]
  },
  {
   "cell_type": "markdown",
   "id": "dangerous-nerve",
   "metadata": {},
   "source": [
    "# Tuples and dictionaries can work together"
   ]
  },
  {
   "cell_type": "code",
   "execution_count": null,
   "id": "blessed-survey",
   "metadata": {},
   "outputs": [],
   "source": [
    "school_class = {}"
   ]
  },
  {
   "cell_type": "code",
   "execution_count": 21,
   "id": "ongoing-customer",
   "metadata": {},
   "outputs": [
    {
     "name": "stdout",
     "output_type": "stream",
     "text": [
      "Enter the student's name: Ahmet\n",
      "Enter the student's score (0-10): 6\n",
      "Enter the student's name: \n",
      "Ahmet : 7.0\n",
      "Mehmet : 9.0\n"
     ]
    }
   ],
   "source": [
    "while True:\n",
    "    name = input(\"Enter the student's name: \")\n",
    "    if name == '':\n",
    "        break\n",
    "    \n",
    "    score = int(input(\"Enter the student's score (0-10): \"))\n",
    "    if score not in range(0, 11):\n",
    "        break\n",
    "    \n",
    "    if name in school_class:\n",
    "        school_class[name] += (score,)\n",
    "    else:\n",
    "        school_class[name] = (score,)\n",
    "        \n",
    "for name in sorted(school_class.keys()):\n",
    "    adding = 0\n",
    "    counter = 0\n",
    "    for score in school_class[name]:\n",
    "        adding += score\n",
    "        counter += 1\n",
    "    print(name, \":\", adding / counter)\n"
   ]
  },
  {
   "cell_type": "code",
   "execution_count": 22,
   "id": "gorgeous-organ",
   "metadata": {},
   "outputs": [
    {
     "name": "stdout",
     "output_type": "stream",
     "text": [
      "school_class : {'Ahmet': (5, 7, 10, 6), 'Mehmet': (8, 9, 10)}\n"
     ]
    }
   ],
   "source": [
    "print(\"school_class :\",school_class)"
   ]
  },
  {
   "cell_type": "code",
   "execution_count": 26,
   "id": "adjacent-college",
   "metadata": {},
   "outputs": [
    {
     "name": "stdout",
     "output_type": "stream",
     "text": [
      "3\n",
      "2\n",
      "0\n"
     ]
    }
   ],
   "source": [
    "pol_eng_dictionary = {\n",
    "    \"zamek\": \"castle\",\n",
    "    \"woda\": \"water\",\n",
    "    \"gleba\": \"soil\"\n",
    "    }\n",
    "\n",
    "print(len(pol_eng_dictionary))    # outputs: 3\n",
    "del pol_eng_dictionary[\"zamek\"]    # remove an item\n",
    "print(len(pol_eng_dictionary))    # outputs: 2\n",
    "\n",
    "pol_eng_dictionary.clear()   # removes all the items\n",
    "print(len(pol_eng_dictionary))    # outputs: 0\n",
    "\n",
    "del pol_eng_dictionary    # removes the dictionary"
   ]
  },
  {
   "cell_type": "code",
   "execution_count": 27,
   "id": "handy-frequency",
   "metadata": {},
   "outputs": [
    {
     "name": "stdout",
     "output_type": "stream",
     "text": [
      "copy_dictionary :  {'zamek': 'castle', 'woda': 'water', 'gleba': 'soil'}\n"
     ]
    }
   ],
   "source": [
    "pol_eng_dictionary = {\n",
    "    \"zamek\": \"castle\",\n",
    "    \"woda\": \"water\",\n",
    "    \"gleba\": \"soil\"\n",
    "    }\n",
    "\n",
    "copy_dictionary = pol_eng_dictionary.copy()\n",
    "\n",
    "print(\"copy_dictionary : \",copy_dictionary)"
   ]
  },
  {
   "cell_type": "code",
   "execution_count": 28,
   "id": "operational-joining",
   "metadata": {},
   "outputs": [
    {
     "name": "stdout",
     "output_type": "stream",
     "text": [
      "{'Adam Smith': 'A', 'Judy Paxton': 'B+', 'Mary Louis': 'A', 'Patrick White': 'C'}\n"
     ]
    }
   ],
   "source": [
    "d1 = {'Adam Smith': 'A', 'Judy Paxton': 'B+'}\n",
    "d2 = {'Mary Louis': 'A', 'Patrick White': 'C'}\n",
    "d3 = {}\n",
    "\n",
    "for item in (d1, d2):\n",
    "    d3.update(item)\n",
    "\n",
    "print(d3)"
   ]
  },
  {
   "cell_type": "code",
   "execution_count": 34,
   "id": "designed-chicken",
   "metadata": {},
   "outputs": [
    {
     "name": "stdout",
     "output_type": "stream",
     "text": [
      "{'green': '#008000', 'blue': '#0000FF'}\n"
     ]
    }
   ],
   "source": [
    "# Write a program that will convert the colors tuple to a dictionary.\n",
    "colors = ((\"green\", \"#008000\"), (\"blue\", \"#0000FF\"))\n",
    "\n",
    "colors_dictionary = {}\n",
    "\n",
    "for x in colors:\n",
    "    colors_dictionary[x[0]]=x[1]\n",
    "        \n",
    "\n",
    "print(colors_dictionary)"
   ]
  },
  {
   "cell_type": "code",
   "execution_count": 35,
   "id": "hourly-fisher",
   "metadata": {},
   "outputs": [
    {
     "name": "stdout",
     "output_type": "stream",
     "text": [
      "{'green': '#008000', 'blue': '#0000FF'}\n"
     ]
    }
   ],
   "source": [
    "colors_dictionary_2 = dict(colors)\n",
    "\n",
    "print(colors_dictionary_2)"
   ]
  },
  {
   "cell_type": "code",
   "execution_count": null,
   "id": "cooked-growth",
   "metadata": {},
   "outputs": [],
   "source": []
  }
 ],
 "metadata": {
  "kernelspec": {
   "display_name": "Python 3",
   "language": "python",
   "name": "python3"
  },
  "language_info": {
   "codemirror_mode": {
    "name": "ipython",
    "version": 3
   },
   "file_extension": ".py",
   "mimetype": "text/x-python",
   "name": "python",
   "nbconvert_exporter": "python",
   "pygments_lexer": "ipython3",
   "version": "3.8.5"
  }
 },
 "nbformat": 4,
 "nbformat_minor": 5
}
