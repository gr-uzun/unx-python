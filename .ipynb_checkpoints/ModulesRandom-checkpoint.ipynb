{
 "cells": [
  {
   "cell_type": "code",
   "execution_count": 3,
   "id": "protecting-endorsement",
   "metadata": {},
   "outputs": [
    {
     "name": "stdout",
     "output_type": "stream",
     "text": [
      "0.4049341374504143\n",
      "0.7837985890347726\n",
      "0.30331272607892745\n",
      "0.4765969541523558\n",
      "0.5833820394550312\n"
     ]
    }
   ],
   "source": [
    "from random import random\n",
    "\n",
    "for i in range(5):\n",
    "    print(random())"
   ]
  },
  {
   "cell_type": "code",
   "execution_count": 7,
   "id": "brown-composition",
   "metadata": {},
   "outputs": [
    {
     "name": "stdout",
     "output_type": "stream",
     "text": [
      "0.8444218515250481\n",
      "0.7579544029403025\n",
      "0.420571580830845\n",
      "0.25891675029296335\n",
      "0.5112747213686085\n"
     ]
    }
   ],
   "source": [
    "from random import random, seed\n",
    "\n",
    "seed(0)\n",
    "\n",
    "for i in range(5):\n",
    "    print(random())"
   ]
  },
  {
   "cell_type": "code",
   "execution_count": 17,
   "id": "numerical-desktop",
   "metadata": {},
   "outputs": [
    {
     "name": "stdout",
     "output_type": "stream",
     "text": [
      "0 0 0 1\n"
     ]
    }
   ],
   "source": [
    "from random import randrange, randint\n",
    "\n",
    "print(randrange(1), end=' ')\n",
    "print(randrange(0, 1), end=' ')\n",
    "print(randrange(0, 1, 1), end=' ')\n",
    "print(randint(0, 1))"
   ]
  },
  {
   "cell_type": "code",
   "execution_count": 12,
   "id": "nutritional-spiritual",
   "metadata": {},
   "outputs": [
    {
     "name": "stdout",
     "output_type": "stream",
     "text": [
      "9,10,2,2,7,9,9,2,7,6,"
     ]
    }
   ],
   "source": [
    "from random import randint\n",
    "\n",
    "for i in range(10):\n",
    "    print(randint(1, 10), end=',')"
   ]
  },
  {
   "cell_type": "code",
   "execution_count": 16,
   "id": "spiritual-colony",
   "metadata": {},
   "outputs": [
    {
     "name": "stdout",
     "output_type": "stream",
     "text": [
      "5\n",
      "[6, 5, 2, 1, 3]\n",
      "[1, 7, 9, 8, 4, 5, 2, 3, 6, 10]\n"
     ]
    }
   ],
   "source": [
    "# choice(sequence)\n",
    "# sample(sequence, elements_to_choose)\n",
    "\n",
    "from random import choice, sample\n",
    "\n",
    "my_list = [1, 2, 3, 4, 5, 6, 7, 8, 9, 10]\n",
    "\n",
    "print(choice(my_list))\n",
    "print(sample(my_list, 5))\n",
    "print(sample(my_list, 10))"
   ]
  },
  {
   "cell_type": "code",
   "execution_count": null,
   "id": "double-stuff",
   "metadata": {},
   "outputs": [],
   "source": []
  }
 ],
 "metadata": {
  "kernelspec": {
   "display_name": "Python 3",
   "language": "python",
   "name": "python3"
  },
  "language_info": {
   "codemirror_mode": {
    "name": "ipython",
    "version": 3
   },
   "file_extension": ".py",
   "mimetype": "text/x-python",
   "name": "python",
   "nbconvert_exporter": "python",
   "pygments_lexer": "ipython3",
   "version": "3.8.5"
  }
 },
 "nbformat": 4,
 "nbformat_minor": 5
}
