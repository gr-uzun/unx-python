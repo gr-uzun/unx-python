{
 "cells": [
  {
   "cell_type": "code",
   "execution_count": 2,
   "metadata": {},
   "outputs": [
    {
     "name": "stdout",
     "output_type": "stream",
     "text": [
      "1 + 2 + 3 = 6\n",
      "x + y + z = xyz\n",
      "2 + 3 + 1 = 6\n",
      "3 + 2 + 1 = 6\n",
      "4 + 3 + 2 = 9\n"
     ]
    },
    {
     "ename": "TypeError",
     "evalue": "adding() got multiple values for argument 'a'",
     "output_type": "error",
     "traceback": [
      "\u001b[1;31m---------------------------------------------------------------------------\u001b[0m",
      "\u001b[1;31mTypeError\u001b[0m                                 Traceback (most recent call last)",
      "\u001b[1;32m<ipython-input-2-ff40620e8d4f>\u001b[0m in \u001b[0;36m<module>\u001b[1;34m\u001b[0m\n\u001b[0;32m     13\u001b[0m \u001b[1;33m\u001b[0m\u001b[0m\n\u001b[0;32m     14\u001b[0m \u001b[1;31m#TypeError: adding() got multiple values for argument 'a'\u001b[0m\u001b[1;33m\u001b[0m\u001b[1;33m\u001b[0m\u001b[1;33m\u001b[0m\u001b[0m\n\u001b[1;32m---> 15\u001b[1;33m \u001b[0madding\u001b[0m\u001b[1;33m(\u001b[0m\u001b[1;36m3\u001b[0m\u001b[1;33m,\u001b[0m \u001b[0ma\u001b[0m \u001b[1;33m=\u001b[0m \u001b[1;36m1\u001b[0m\u001b[1;33m,\u001b[0m \u001b[0mb\u001b[0m \u001b[1;33m=\u001b[0m \u001b[1;36m2\u001b[0m\u001b[1;33m)\u001b[0m\u001b[1;33m\u001b[0m\u001b[1;33m\u001b[0m\u001b[0m\n\u001b[0m",
      "\u001b[1;31mTypeError\u001b[0m: adding() got multiple values for argument 'a'"
     ]
    }
   ],
   "source": [
    "def adding(a, b, c):\n",
    "    print(a, \"+\", b, \"+\", c, \"=\", a + b + c)\n",
    "\n",
    "adding(1, 2, 3)\n",
    "\n",
    "adding('x', 'y', 'z')\n",
    "\n",
    "adding(c = 1, a = 2, b = 3)\n",
    "\n",
    "adding(3, c = 1, b = 2)\n",
    "\n",
    "adding(4, 3, c = 2)\n",
    "\n",
    "#TypeError: adding() got multiple values for argument 'a'\n",
    "adding(3, a = 1, b = 2)"
   ]
  },
  {
   "cell_type": "code",
   "execution_count": 3,
   "metadata": {},
   "outputs": [
    {
     "name": "stdout",
     "output_type": "stream",
     "text": [
      "Hello, my name is James Doe\n",
      "Hello, my name is Henry Smith\n",
      "Hello, my name is William Smith\n"
     ]
    }
   ],
   "source": [
    "def introduction(first_name, last_name=\"Smith\"):\n",
    "    print(\"Hello, my name is\", first_name, last_name)\n",
    "\n",
    "introduction(\"James\", \"Doe\")\n",
    "\n",
    "introduction(\"Henry\")\n",
    "\n",
    "introduction(first_name=\"William\")"
   ]
  },
  {
   "cell_type": "code",
   "execution_count": 4,
   "metadata": {},
   "outputs": [
    {
     "name": "stdout",
     "output_type": "stream",
     "text": [
      "Hello, my name is John Smith\n"
     ]
    }
   ],
   "source": [
    "def introduction(first_name=\"John\", last_name=\"Smith\"):\n",
    "    print(\"Hello, my name is\", first_name, last_name)\n",
    "\n",
    "introduction()"
   ]
  },
  {
   "cell_type": "code",
   "execution_count": 5,
   "metadata": {},
   "outputs": [
    {
     "ename": "SyntaxError",
     "evalue": "non-default argument follows default argument (<ipython-input-5-13591dc8fb81>, line 2)",
     "output_type": "error",
     "traceback": [
      "\u001b[1;36m  File \u001b[1;32m\"<ipython-input-5-13591dc8fb81>\"\u001b[1;36m, line \u001b[1;32m2\u001b[0m\n\u001b[1;33m    def add_numbers(a, b=2, c):\u001b[0m\n\u001b[1;37m                    ^\u001b[0m\n\u001b[1;31mSyntaxError\u001b[0m\u001b[1;31m:\u001b[0m non-default argument follows default argument\n"
     ]
    }
   ],
   "source": [
    "# SyntaxError - a non-default argument (c) follows a default argument (b=2) \n",
    "def add_numbers(a, b=2, c):\n",
    "    print(a + b + c)\n",
    "\n",
    "add_numbers(a=1, c=3)"
   ]
  },
  {
   "cell_type": "markdown",
   "metadata": {},
   "source": [
    "# None"
   ]
  },
  {
   "cell_type": "code",
   "execution_count": 6,
   "metadata": {},
   "outputs": [
    {
     "name": "stdout",
     "output_type": "stream",
     "text": [
      "Sorry, you don't carry any value\n"
     ]
    }
   ],
   "source": [
    "value = None\n",
    "if value is None:\n",
    "    print(\"Sorry, you don't carry any value\")\n"
   ]
  },
  {
   "cell_type": "code",
   "execution_count": 7,
   "metadata": {},
   "outputs": [
    {
     "name": "stdout",
     "output_type": "stream",
     "text": [
      "True\n",
      "None\n"
     ]
    }
   ],
   "source": [
    "def strange_function(n):\n",
    "    if(n % 2 == 0):\n",
    "        return True\n",
    "print(strange_function(2))\n",
    "print(strange_function(1))"
   ]
  },
  {
   "cell_type": "code",
   "execution_count": 8,
   "metadata": {},
   "outputs": [
    {
     "name": "stdout",
     "output_type": "stream",
     "text": [
      "12\n"
     ]
    }
   ],
   "source": [
    "def list_sum(lst):\n",
    "    s = 0\n",
    "    \n",
    "    for elem in lst:\n",
    "        s += elem\n",
    "    \n",
    "    return s\n",
    "\n",
    "print(list_sum([5, 4, 3]))"
   ]
  },
  {
   "cell_type": "markdown",
   "metadata": {},
   "source": [
    "Scenario\n",
    "\n",
    "Your task is to write and test a function which takes one argument (a year) and returns True if the year is a leap year, or False otherwise.\n",
    "\n",
    "The seed of the function is already sown in the skeleton code in the editor.\n",
    "\n",
    "Note: we've also prepared a short testing code, which you can use to test your function.\n",
    "\n",
    "The code uses two lists - one with the test data, and the other containing the expected results. The code will tell you if any of your results are invalid.\n",
    "\n",
    "Since the introduction of the Gregorian calendar (in 1582), the following rule is used to determine the kind of year:\n",
    "\n",
    "if the year number isn't divisible by four, it's a common year;\n",
    "otherwise, if the year number isn't divisible by 100, it's a leap year;\n",
    "otherwise, if the year number isn't divisible by 400, it's a common year;\n",
    "otherwise, it's a leap year.\n",
    "\n",
    "Look at the code in the editor - it only reads a year number, and needs to be completed with the instructions implementing the test we've just described."
   ]
  },
  {
   "cell_type": "code",
   "execution_count": 2,
   "metadata": {},
   "outputs": [
    {
     "name": "stdout",
     "output_type": "stream",
     "text": [
      "1900 ->OK\n",
      "2000 ->OK\n",
      "2016 ->OK\n",
      "1987 ->OK\n"
     ]
    }
   ],
   "source": [
    "def is_year_leap(year):\n",
    "\n",
    "    if (year < 1582):\n",
    "        return False\n",
    "    elif (year%4 != 0):\n",
    "        return False\n",
    "    elif (year%100 != 0):\n",
    "        return True\n",
    "    elif (year%400 != 0):\n",
    "        return False\n",
    "    else :\n",
    "        return True\n",
    "\n",
    "test_data = [1900, 2000, 2016, 1987]\n",
    "\n",
    "test_results = [False, True, True, False]\n",
    "\n",
    "for i in range(len(test_data)):\n",
    "    yr = test_data[i]\n",
    "\n",
    "    print(yr,\"->\",end=\"\")\n",
    "\n",
    "    result = is_year_leap(yr)\n",
    "\n",
    "    if result == test_results[i]:\n",
    "        print(\"OK\")\n",
    "    else:\n",
    "        print(\"Failed\")\n"
   ]
  },
  {
   "cell_type": "markdown",
   "metadata": {},
   "source": [
    "Scenario\n",
    "\n",
    "Your task is to write and test a function which takes two arguments (a year and a month) and returns the number of days for the given month/year pair (while only February is sensitive to the year value, your function should be universal).\n",
    "\n",
    "The initial part of the function is ready. Now, convince the function to return None if its arguments don't make sense.\n",
    "\n",
    "Of course, you can (and should) use the previously written and tested function (LAB 4.3.1.6). It may be very helpful. We encourage you to use a list filled with the months' lengths. You can create it inside the function - this trick will significantly shorten the code.\n",
    "\n",
    "We've prepared a testing code. Expand it to include more test cases."
   ]
  },
  {
   "cell_type": "code",
   "execution_count": 3,
   "metadata": {},
   "outputs": [
    {
     "name": "stdout",
     "output_type": "stream",
     "text": [
      "1900 2 ->OK\n",
      "2000 2 ->OK\n",
      "2016 1 ->OK\n",
      "1987 11 ->OK\n"
     ]
    }
   ],
   "source": [
    "def days_in_month(year, month):\n",
    "\n",
    "    days = 0\n",
    "\n",
    "    if month in (1,3,5,7,8,10,12) :\n",
    "        return 31\n",
    "    elif month==2 :\n",
    "        days = 28\n",
    "        if is_year_leap(year):\n",
    "            return 29\n",
    "        else :\n",
    "            return 28\n",
    "    else :\n",
    "        return 30\n",
    "    \n",
    "test_years = [1900, 2000, 2016, 1987]\n",
    "\n",
    "test_months = [2, 2, 1, 11]\n",
    "\n",
    "test_results = [28, 29, 31, 30]\n",
    "\n",
    "for i in range(len(test_years)):\n",
    "\n",
    "    yr = test_years[i]\n",
    "\n",
    "    mo = test_months[i]\n",
    "\n",
    "    print(yr, mo, \"->\", end=\"\")\n",
    "\n",
    "    result = days_in_month(yr, mo)\n",
    "\n",
    "    if result == test_results[i]:\n",
    "        print(\"OK\")\n",
    "    else:\n",
    "        print(\"Failed\")\n"
   ]
  },
  {
   "cell_type": "markdown",
   "metadata": {},
   "source": [
    "# Objectives\n",
    "\n",
    "Familiarize the student with:\n",
    "\n",
    "    projecting and writing parameterized functions;\n",
    "    utilizing the return statement;\n",
    "    building a set of utility functions;\n",
    "    utilizing the student's own functions.\n",
    "\n",
    "# Scenariore\n",
    "\n",
    "Your task is to write and test a function which takes three arguments (a year, a month, and a day of the month) and returns the corresponding day of the year, or returns None if any of the arguments is invalid.\n",
    "\n",
    "Use the previously written and tested functions. Add some test cases to the code. This test is only a beginning."
   ]
  },
  {
   "cell_type": "code",
   "execution_count": 12,
   "metadata": {},
   "outputs": [
    {
     "name": "stdout",
     "output_type": "stream",
     "text": [
      "year :\t2000\tmonth : \t1\tmonthDays : \t31\n",
      "year :\t2000\tmonth : \t2\tmonthDays : \t29\n",
      "year :\t2000\tmonth : \t3\tmonthDays : \t31\n",
      "year :\t2000\tmonth : \t4\tmonthDays : \t30\n",
      "year :\t2000\tmonth : \t5\tmonthDays : \t31\n",
      "year :\t2000\tmonth : \t6\tmonthDays : \t30\n",
      "year :\t2000\tmonth : \t7\tmonthDays : \t31\n",
      "year :\t2000\tmonth : \t8\tmonthDays : \t31\n",
      "year :\t2000\tmonth : \t9\tmonthDays : \t30\n",
      "year :\t2000\tmonth : \t10\tmonthDays : \t31\n",
      "year :\t2000\tmonth : \t11\tmonthDays : \t30\n",
      "year :\t2000\tmonth : \t12\tmonthDays : \t31\n",
      "366\n",
      "year :\t2001\tmonth : \t1\tmonthDays : \t31\n",
      "year :\t2001\tmonth : \t2\tmonthDays : \t28\n",
      "year :\t2001\tmonth : \t3\tmonthDays : \t31\n",
      "year :\t2001\tmonth : \t4\tmonthDays : \t30\n",
      "year :\t2001\tmonth : \t5\tmonthDays : \t31\n",
      "year :\t2001\tmonth : \t6\tmonthDays : \t30\n",
      "year :\t2001\tmonth : \t7\tmonthDays : \t31\n",
      "year :\t2001\tmonth : \t8\tmonthDays : \t31\n",
      "year :\t2001\tmonth : \t9\tmonthDays : \t30\n",
      "year :\t2001\tmonth : \t10\tmonthDays : \t31\n",
      "year :\t2001\tmonth : \t11\tmonthDays : \t30\n",
      "year :\t2001\tmonth : \t12\tmonthDays : \t31\n",
      "365\n"
     ]
    }
   ],
   "source": [
    "def day_of_year(year, month, day):\n",
    "    day = 0\n",
    "    for i in range(1, month + 1 ) :\n",
    "\n",
    "        monthDays = days_in_month(year, i)\n",
    "\n",
    "        print(\"year :\",year,\"month : \",i,\"monthDays : \",monthDays,sep=\"\\t\")\n",
    "        \n",
    "        day += monthDays\n",
    "\n",
    "    return day\n",
    "\n",
    "print(day_of_year(2000, 12, 31))\n",
    "\n",
    "print(day_of_year(2001, 12, 31))\n"
   ]
  },
  {
   "cell_type": "markdown",
   "metadata": {},
   "source": [
    "# Objectives\n",
    "\n",
    "    familiarizing the student with classic notions and algorithms;\n",
    "    improving the student's skills in defining and using functions.\n",
    "\n",
    "# Scenario\n",
    "\n",
    "A natural number is prime if it is greater than 1 and has no divisors other than 1 and itself.\n",
    "\n",
    "Complicated? Not at all. For example, 8 isn't a prime number, as you can divide it by 2 and 4 (we can't use divisors equal to 1 and 8, as the definition prohibits this).\n",
    "\n",
    "On the other hand, 7 is a prime number, as we can't find any legal divisors for it.\n",
    "\n",
    "Your task is to write a function checking whether a number is prime or not.\n",
    "\n",
    "The function:\n",
    "\n",
    "    is called is_prime;\n",
    "    takes one argument (the value to check)\n",
    "    returns True if the argument is a prime number, and False otherwise.\n",
    "\n",
    "Hint: try to divide the argument by all subsequent values (starting from 2) and check the remainder - if it's zero, your number cannot be a prime; think carefully about when you should stop the process.\n",
    "\n",
    "If you need to know the square root of any value, you can utilize the ** operator. Remember: the square root of x is the same as x0.5\n",
    "\n",
    "Complete the code in the editor.\n",
    "\n",
    "Run your code and check whether your output is the same as ours.\n",
    "\n",
    "# Expected output\n",
    "\n",
    "2 3 5 7 11 13 17 19\n",
    "\n"
   ]
  },
  {
   "cell_type": "code",
   "execution_count": 13,
   "metadata": {},
   "outputs": [
    {
     "name": "stdout",
     "output_type": "stream",
     "text": [
      "2 3 5 7 11 13 17 19 "
     ]
    }
   ],
   "source": [
    "def is_prime(num):\n",
    "\n",
    "    prime_check = True\n",
    "\n",
    "    for i in range(2,num):\n",
    "        if (num%i == 0) :\n",
    "            prime_check = False\n",
    "            break\n",
    "    \n",
    "    return prime_check\n",
    "\n",
    "\n",
    "for i in range(1, 20):\n",
    "    if is_prime(i + 1):\n",
    "        print(i + 1, end=\" \")\n"
   ]
  },
  {
   "cell_type": "markdown",
   "metadata": {},
   "source": [
    "# Objectives\n",
    "\n",
    "    improving the student's skills in defining, using and testing functions.\n",
    "\n",
    "# Scenario\n",
    "\n",
    "A car's fuel consumption may be expressed in many different ways. For example, in Europe, it is shown as the amount of fuel consumed per 100 kilometers.\n",
    "\n",
    "In the USA, it is shown as the number of miles traveled by a car using one gallon of fuel.\n",
    "\n",
    "Your task is to write a pair of functions converting l/100km into mpg, and vice versa.\n",
    "\n",
    "The functions:\n",
    "\n",
    "    are named liters_100km_to_miles_gallon and miles_gallon_to_liters_100km respectively;\n",
    "    take one argument (the value corresponding to their names)\n",
    "\n",
    "Complete the code in the editor.\n",
    "\n",
    "Run your code and check whether your output is the same as ours.\n",
    "\n",
    "Here is some information to help you:\n",
    "\n",
    "    1 American mile = 1609.344 metres;\n",
    "    1 American gallon = 3.785411784 litres. \n",
    "\n",
    "# Expected output\n",
    "\n",
    "60.31143162393162\n",
    "31.36194444444444\n",
    "23.52145833333333\n",
    "3.9007393587617467\n",
    "7.490910297239916\n",
    "10.009131205673757"
   ]
  },
  {
   "cell_type": "code",
   "execution_count": 38,
   "metadata": {},
   "outputs": [
    {
     "name": "stdout",
     "output_type": "stream",
     "text": [
      "60.31143162393162\n",
      "31.36194444444444\n",
      "23.52145833333333\n",
      "3.900739358761747\n",
      "7.490910297239916\n",
      "10.009131205673759\n"
     ]
    }
   ],
   "source": [
    "def liters_100km_to_miles_gallon(liters):\n",
    "    return (100*1000/1609.344)/(liters/3.785411784)\n",
    "\n",
    "def miles_gallon_to_liters_100km(miles):\n",
    "    return 3.785411784/(miles*1609.344/100/1000)\n",
    "\n",
    "print(liters_100km_to_miles_gallon(3.9))\n",
    "print(liters_100km_to_miles_gallon(7.5))\n",
    "print(liters_100km_to_miles_gallon(10.))\n",
    "print(miles_gallon_to_liters_100km(60.3))\n",
    "print(miles_gallon_to_liters_100km(31.4))\n",
    "print(miles_gallon_to_liters_100km(23.5))\n"
   ]
  },
  {
   "cell_type": "code",
   "execution_count": null,
   "metadata": {},
   "outputs": [],
   "source": []
  }
 ],
 "metadata": {
  "celltoolbar": "Raw Cell Format",
  "kernelspec": {
   "display_name": "Python 3",
   "language": "python",
   "name": "python3"
  },
  "language_info": {
   "codemirror_mode": {
    "name": "ipython",
    "version": 3
   },
   "file_extension": ".py",
   "mimetype": "text/x-python",
   "name": "python",
   "nbconvert_exporter": "python",
   "pygments_lexer": "ipython3",
   "version": "3.8.5"
  }
 },
 "nbformat": 4,
 "nbformat_minor": 4
}
