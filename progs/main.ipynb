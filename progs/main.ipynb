{
 "cells": [
  {
   "cell_type": "code",
   "execution_count": 1,
   "id": "accessory-instrumentation",
   "metadata": {},
   "outputs": [
    {
     "name": "stdout",
     "output_type": "stream",
     "text": [
      "module\n",
      "0\n",
      "1\n"
     ]
    }
   ],
   "source": [
    "from sys import path\n",
    "\n",
    "path.append('../modules')\n",
    "\n",
    "import module\n",
    "\n",
    "zeroes = [0 for i in range(5)]\n",
    "ones = [1 for i in range(5)]\n",
    "print(module.suml(zeroes))\n",
    "print(module.prodl(ones))\n"
   ]
  },
  {
   "cell_type": "code",
   "execution_count": 2,
   "id": "charitable-wilderness",
   "metadata": {},
   "outputs": [
    {
     "name": "stdout",
     "output_type": "stream",
     "text": [
      "/home/gurkan/dev/git-repo-gr-uzun/unx-python/progs\n",
      "/home/gurkan/anaconda3/lib/python38.zip\n",
      "/home/gurkan/anaconda3/lib/python3.8\n",
      "/home/gurkan/anaconda3/lib/python3.8/lib-dynload\n",
      "\n",
      "/home/gurkan/.local/lib/python3.8/site-packages\n",
      "/home/gurkan/anaconda3/lib/python3.8/site-packages\n",
      "/home/gurkan/.local/lib/python3.8/site-packages/IPython/extensions\n",
      "/home/gurkan/.ipython\n",
      "../modules\n"
     ]
    }
   ],
   "source": [
    "import sys\n",
    "\n",
    "for p in sys.path:\n",
    "    print(p)"
   ]
  },
  {
   "cell_type": "code",
   "execution_count": null,
   "id": "norman-quebec",
   "metadata": {},
   "outputs": [],
   "source": []
  }
 ],
 "metadata": {
  "kernelspec": {
   "display_name": "Python 3",
   "language": "python",
   "name": "python3"
  },
  "language_info": {
   "codemirror_mode": {
    "name": "ipython",
    "version": 3
   },
   "file_extension": ".py",
   "mimetype": "text/x-python",
   "name": "python",
   "nbconvert_exporter": "python",
   "pygments_lexer": "ipython3",
   "version": "3.8.5"
  }
 },
 "nbformat": 4,
 "nbformat_minor": 5
}
