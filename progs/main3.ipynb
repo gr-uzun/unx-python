{
 "cells": [
  {
   "cell_type": "code",
   "execution_count": 2,
   "id": "digital-title",
   "metadata": {},
   "outputs": [
    {
     "name": "stdout",
     "output_type": "stream",
     "text": [
      "Sigma\n",
      "Alpha\n",
      "Iota\n",
      "Beta\n"
     ]
    }
   ],
   "source": [
    "from sys import path\n",
    "\n",
    "path.append('../packages/extrapack.zip')\n",
    "\n",
    "import extra.good.best.sigma as sig\n",
    "import extra.good.alpha as alp\n",
    "from extra.iota import FunI\n",
    "from extra.good.beta import FunB\n",
    "\n",
    "print(sig.FunS())\n",
    "print(alp.FunA())\n",
    "print(FunI())\n",
    "print(FunB())"
   ]
  },
  {
   "cell_type": "code",
   "execution_count": null,
   "id": "logical-cheese",
   "metadata": {},
   "outputs": [],
   "source": []
  }
 ],
 "metadata": {
  "kernelspec": {
   "display_name": "Python 3",
   "language": "python",
   "name": "python3"
  },
  "language_info": {
   "codemirror_mode": {
    "name": "ipython",
    "version": 3
   },
   "file_extension": ".py",
   "mimetype": "text/x-python",
   "name": "python",
   "nbconvert_exporter": "python",
   "pygments_lexer": "ipython3",
   "version": "3.8.5"
  }
 },
 "nbformat": 4,
 "nbformat_minor": 5
}
