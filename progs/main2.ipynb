{
 "cells": [
  {
   "cell_type": "code",
   "execution_count": 1,
   "id": "exclusive-child",
   "metadata": {},
   "outputs": [
    {
     "name": "stdout",
     "output_type": "stream",
     "text": [
      "Iota\n"
     ]
    }
   ],
   "source": [
    "from sys import path\n",
    "path.append('../packages')\n",
    "\n",
    "import extra.iota\n",
    "\n",
    "print(extra.iota.FunI())"
   ]
  },
  {
   "cell_type": "code",
   "execution_count": 2,
   "id": "subject-dakota",
   "metadata": {},
   "outputs": [
    {
     "name": "stdout",
     "output_type": "stream",
     "text": [
      "Iota\n"
     ]
    }
   ],
   "source": [
    "from extra.iota import FunI\n",
    "print(FunI())"
   ]
  },
  {
   "cell_type": "code",
   "execution_count": 3,
   "id": "liable-blake",
   "metadata": {},
   "outputs": [
    {
     "name": "stdout",
     "output_type": "stream",
     "text": [
      "/home/gurkan/dev/git-repo-gr-uzun/unx-python/progs\n",
      "/home/gurkan/anaconda3/lib/python38.zip\n",
      "/home/gurkan/anaconda3/lib/python3.8\n",
      "/home/gurkan/anaconda3/lib/python3.8/lib-dynload\n",
      "\n",
      "/home/gurkan/.local/lib/python3.8/site-packages\n",
      "/home/gurkan/anaconda3/lib/python3.8/site-packages\n",
      "/home/gurkan/.local/lib/python3.8/site-packages/IPython/extensions\n",
      "/home/gurkan/.ipython\n",
      "../packages\n"
     ]
    }
   ],
   "source": [
    "import sys\n",
    "\n",
    "for p in sys.path:\n",
    "    print(p)"
   ]
  },
  {
   "cell_type": "code",
   "execution_count": 5,
   "id": "controversial-growing",
   "metadata": {},
   "outputs": [
    {
     "name": "stdout",
     "output_type": "stream",
     "text": [
      "Sigma\n",
      "Tau\n"
     ]
    }
   ],
   "source": [
    "import extra.good.best.sigma\n",
    "from extra.good.best.tau import FunT\n",
    "\n",
    "print(extra.good.best.sigma.FunS())\n",
    "print(FunT())"
   ]
  },
  {
   "cell_type": "code",
   "execution_count": 8,
   "id": "classified-junior",
   "metadata": {},
   "outputs": [
    {
     "name": "stdout",
     "output_type": "stream",
     "text": [
      "Sigma\n",
      "Alpha\n"
     ]
    }
   ],
   "source": [
    "import extra.good.best.sigma as sig\n",
    "import extra.good.alpha as alp\n",
    "\n",
    "print(sig.FunS())\n",
    "print(alp.FunA())"
   ]
  },
  {
   "cell_type": "code",
   "execution_count": null,
   "id": "known-jimmy",
   "metadata": {},
   "outputs": [],
   "source": []
  }
 ],
 "metadata": {
  "kernelspec": {
   "display_name": "Python 3",
   "language": "python",
   "name": "python3"
  },
  "language_info": {
   "codemirror_mode": {
    "name": "ipython",
    "version": 3
   },
   "file_extension": ".py",
   "mimetype": "text/x-python",
   "name": "python",
   "nbconvert_exporter": "python",
   "pygments_lexer": "ipython3",
   "version": "3.8.5"
  }
 },
 "nbformat": 4,
 "nbformat_minor": 5
}
